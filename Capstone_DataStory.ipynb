{
 "cells": [
  {
   "cell_type": "code",
   "execution_count": 1,
   "metadata": {
    "collapsed": true
   },
   "outputs": [],
   "source": [
    "import pandas as pd\n",
    "import numpy as np"
   ]
  },
  {
   "cell_type": "code",
   "execution_count": 2,
   "metadata": {
    "collapsed": true
   },
   "outputs": [],
   "source": [
    "file = 'C:/Users/darsa/Downloads/nflstatistics/Game_Logs_Quarterback.csv'\n",
    "injury_file = 'C:/Users/darsa/Desktop/NFLInjury.csv'\n",
    "qb_2017 = 'C:/Users/darsa/Desktop/QBStats2017.csv'\n",
    "\n",
    "df_injury = pd.read_csv(injury_file,skip_blank_lines=True,index_col=0)\n",
    "df_QB = pd.read_csv(file,skip_blank_lines=True,index_col=0)\n",
    "df_QB2017 = pd.read_csv(qb_2017,skip_blank_lines=True,index_col=0)\n"
   ]
  },
  {
   "cell_type": "code",
   "execution_count": 3,
   "metadata": {
    "collapsed": true
   },
   "outputs": [],
   "source": [
    "df_injury = df_injury[(df_injury.season .isin([2013, 2014, 2015, 2016]))&(df_injury['seasonType'].isin(['Regular','Playoffs']))]\n",
    "df_injury.reset_index(drop = True, inplace = True)"
   ]
  },
  {
   "cell_type": "code",
   "execution_count": 4,
   "metadata": {
    "collapsed": true
   },
   "outputs": [],
   "source": [
    "df_qb=df_QB[(df_QB['Year'].isin([2013, 2014, 2015, 2016]))&(df_QB['Season'].isin(['Regular Season','Postseason']))&(((df_QB['Games Played']==1) & (df_QB['Passer Rating']>0))| (df_QB['Games Played']==0))]\n",
    "df_qb.reset_index(drop=True,inplace=True)\n",
    "#df_qb.set_index(range(len(df_qb)))"
   ]
  },
  {
   "cell_type": "code",
   "execution_count": 5,
   "metadata": {
    "collapsed": true
   },
   "outputs": [],
   "source": [
    "name=[]\n",
    "pos=[]\n",
    "for i in df_injury['Player']:    \n",
    "    x= i.split(',')    \n",
    "    #print(x)\n",
    "    if x[0] == 'No injuries reported.':\n",
    "        name.append(np.nan)\n",
    "        pos.append(np.nan)\n",
    "        #print(x)\n",
    "    #print(x[1:2],np.str(x[2]).split('.')[1])\n",
    "    else:\n",
    "        y=x[1].strip()\n",
    "        xxx = np.str(y).split(' ')[2]+', '+ np.str(y).split(' ')[0]\n",
    "        #print('y = ',y,'xxx = ',xxx)\n",
    "        name.append(xxx)\n",
    "        pos.append(np.str(x[2]).split('.')[1].strip())\n",
    "        #df_injury['PlayerName'] = xxx\n",
    "        #df_injury['PlayerPosition']=np.str(x[2]).split('.')[1].strip()\n",
    "        #print(df_injury.loc[i])\n",
    "\n",
    "        \n",
    "#df_injury.to_csv('C:\\\\Users\\\\darsa\\\\Desktop\\\\UpdatedNFLInjury.csv')"
   ]
  },
  {
   "cell_type": "code",
   "execution_count": 6,
   "metadata": {
    "collapsed": true
   },
   "outputs": [],
   "source": [
    "df_injury['PlayerName'] =name\n",
    "df_injury['PlayerPosition']=pos"
   ]
  },
  {
   "cell_type": "code",
   "execution_count": 7,
   "metadata": {
    "collapsed": true
   },
   "outputs": [],
   "source": [
    "def season_col(row):\n",
    "    if row.week == 'Pro Bowl Week':\n",
    "        return 'Pro Bowl'\n",
    "    if row.seasonType == 'Playoffs':\n",
    "        return 'Postseason'\n",
    "    if row.seasonType == 'Regular':\n",
    "        return 'Regular Season'\n",
    "    if row.seasonType == 'Preseason':\n",
    "        return 'Preseason'\n",
    "\n",
    "    \n",
    "def wk(row):\n",
    "    if row.week == 'wk1':\n",
    "        return int(1)\n",
    "    if row.week == 'wk2':\n",
    "        return int(2)\n",
    "    if row.week == 'wk3':\n",
    "        return int(3)\n",
    "    if row.week == 'wk4':\n",
    "        return int(4)\n",
    "    if row.week == 'wk5':\n",
    "        return int(5)\n",
    "    if row.week == 'wk6':\n",
    "        return int(6)\n",
    "    if row.week == 'wk7':\n",
    "        return int(7)\n",
    "    if row.week == 'wk8':\n",
    "        return int(8)\n",
    "    if row.week == 'wk9':\n",
    "        return int(9)\n",
    "    if row.week == 'wk10':\n",
    "        return int(10)\n",
    "    if row.week == 'wk11':\n",
    "        return int(11)\n",
    "    if row.week == 'wk12':\n",
    "        return int(12)\n",
    "    if row.week == 'wk13':\n",
    "        return int(13)\n",
    "    if row.week == 'wk14':\n",
    "        return int(14)\n",
    "    if row.week == 'wk15':\n",
    "        return int(15)\n",
    "    if row.week == 'wk16':\n",
    "        return int(16)\n",
    "    if row.week == 'wk17':\n",
    "        return int(17)\n",
    "    if row.week == 'Wild Card Playoffs':\n",
    "        return int(18)\n",
    "    if row.week == 'Divisional Championships':\n",
    "        return int(19)\n",
    "    if row.week == 'Conference Championships':\n",
    "        return int(20)\n",
    "    if row.week == 'Pro Bowl Week':\n",
    "        return int(21)\n",
    "    if row.week == 'Super Bowl':\n",
    "        return int(22)\n",
    "    \n",
    "def gameplayed(row):\n",
    "    if (pd.to_numeric(row['Passer Rating'])<=0)& (pd.isnull(row['Injury'])==False):\n",
    "        return 'No'\n",
    "    else:\n",
    "        return 'Yes'"
   ]
  },
  {
   "cell_type": "code",
   "execution_count": 8,
   "metadata": {
    "collapsed": true
   },
   "outputs": [],
   "source": [
    "df_injury['seasonType'] = df_injury.apply(lambda row: season_col(row),axis=1)"
   ]
  },
  {
   "cell_type": "code",
   "execution_count": 9,
   "metadata": {
    "collapsed": true
   },
   "outputs": [],
   "source": [
    "df_injury['week'] = df_injury.apply(lambda row: wk(row),axis=1)"
   ]
  },
  {
   "cell_type": "code",
   "execution_count": 10,
   "metadata": {
    "collapsed": true
   },
   "outputs": [],
   "source": [
    "df_injury_Original = df_injury.copy()"
   ]
  },
  {
   "cell_type": "code",
   "execution_count": 110,
   "metadata": {},
   "outputs": [
    {
     "name": "stdout",
     "output_type": "stream",
     "text": [
      "<class 'pandas.core.frame.DataFrame'>\n",
      "RangeIndex: 20642 entries, 0 to 20641\n",
      "Data columns (total 9 columns):\n",
      "Game Status       20629 non-null object\n",
      "Injury            20624 non-null object\n",
      "Player            20642 non-null object\n",
      "season            20642 non-null int64\n",
      "seasonType        20642 non-null object\n",
      "teamname          20642 non-null object\n",
      "week              20642 non-null int64\n",
      "PlayerName        20629 non-null object\n",
      "PlayerPosition    20629 non-null object\n",
      "dtypes: int64(2), object(7)\n",
      "memory usage: 1.4+ MB\n"
     ]
    }
   ],
   "source": [
    "df_injury.info()"
   ]
  },
  {
   "cell_type": "code",
   "execution_count": null,
   "metadata": {
    "collapsed": true
   },
   "outputs": [],
   "source": []
  },
  {
   "cell_type": "code",
   "execution_count": 111,
   "metadata": {
    "collapsed": true
   },
   "outputs": [],
   "source": [
    "df_injury = df_injury[df_injury.PlayerPosition=='QB']"
   ]
  },
  {
   "cell_type": "code",
   "execution_count": 112,
   "metadata": {
    "collapsed": true
   },
   "outputs": [],
   "source": [
    "clean_injury = df_injury.rename(columns={'PlayerName':'Name', 'season':'Year','seasonType':'Season','week': 'Week'})"
   ]
  },
  {
   "cell_type": "code",
   "execution_count": 113,
   "metadata": {
    "collapsed": true
   },
   "outputs": [],
   "source": [
    "clean_qb = df_qb[['Name','Year','Season','Week','Passer Rating','Games Played']]"
   ]
  },
  {
   "cell_type": "code",
   "execution_count": 126,
   "metadata": {
    "collapsed": true
   },
   "outputs": [],
   "source": [
    "df_QBComplete = clean_qb.copy()"
   ]
  },
  {
   "cell_type": "code",
   "execution_count": 127,
   "metadata": {
    "collapsed": true
   },
   "outputs": [],
   "source": [
    "df_qb2017 = df_QB2017[['Name','Year','Season','Week','Passer Rating','Games Played']]"
   ]
  },
  {
   "cell_type": "code",
   "execution_count": 128,
   "metadata": {
    "collapsed": true
   },
   "outputs": [],
   "source": [
    "df_injury.to_csv('C:\\\\Users\\\\darsa\\\\Desktop\\\\Clean_QB_Injury.csv')"
   ]
  },
  {
   "cell_type": "code",
   "execution_count": 129,
   "metadata": {
    "collapsed": true
   },
   "outputs": [],
   "source": [
    "clean_qb.to_csv('C:\\\\Users\\\\darsa\\\\Desktop\\\\Clean_qb2013_2016.csv')"
   ]
  },
  {
   "cell_type": "code",
   "execution_count": 130,
   "metadata": {},
   "outputs": [
    {
     "data": {
      "text/html": [
       "<div>\n",
       "<style>\n",
       "    .dataframe thead tr:only-child th {\n",
       "        text-align: right;\n",
       "    }\n",
       "\n",
       "    .dataframe thead th {\n",
       "        text-align: left;\n",
       "    }\n",
       "\n",
       "    .dataframe tbody tr th {\n",
       "        vertical-align: top;\n",
       "    }\n",
       "</style>\n",
       "<table border=\"1\" class=\"dataframe\">\n",
       "  <thead>\n",
       "    <tr style=\"text-align: right;\">\n",
       "      <th></th>\n",
       "      <th>Game Status</th>\n",
       "      <th>Injury</th>\n",
       "      <th>Player</th>\n",
       "      <th>season</th>\n",
       "      <th>seasonType</th>\n",
       "      <th>teamname</th>\n",
       "      <th>week</th>\n",
       "      <th>PlayerName</th>\n",
       "      <th>PlayerPosition</th>\n",
       "    </tr>\n",
       "  </thead>\n",
       "  <tbody>\n",
       "    <tr>\n",
       "      <th>13</th>\n",
       "      <td>Probable</td>\n",
       "      <td>left shoulder</td>\n",
       "      <td>Osweiler, Brock  Osweiler, B.  QB</td>\n",
       "      <td>2013</td>\n",
       "      <td>Regular Season</td>\n",
       "      <td>Broncos</td>\n",
       "      <td>1</td>\n",
       "      <td>Osweiler, Brock</td>\n",
       "      <td>QB</td>\n",
       "    </tr>\n",
       "    <tr>\n",
       "      <th>26</th>\n",
       "      <td>Probable</td>\n",
       "      <td>knee</td>\n",
       "      <td>Manuel, EJ  Manuel, E.  QB</td>\n",
       "      <td>2013</td>\n",
       "      <td>Regular Season</td>\n",
       "      <td>Bills</td>\n",
       "      <td>1</td>\n",
       "      <td>Manuel, EJ</td>\n",
       "      <td>QB</td>\n",
       "    </tr>\n",
       "    <tr>\n",
       "      <th>56</th>\n",
       "      <td>Out</td>\n",
       "      <td>ankle</td>\n",
       "      <td>Devlin, Pat  Devlin, P.  QB</td>\n",
       "      <td>2013</td>\n",
       "      <td>Regular Season</td>\n",
       "      <td>Dolphins</td>\n",
       "      <td>1</td>\n",
       "      <td>Devlin, Pat</td>\n",
       "      <td>QB</td>\n",
       "    </tr>\n",
       "    <tr>\n",
       "      <th>75</th>\n",
       "      <td>Probable</td>\n",
       "      <td>illness</td>\n",
       "      <td>Bethel-Thompson, McLeod  Bethel-Thompson, M.  QB</td>\n",
       "      <td>2013</td>\n",
       "      <td>Regular Season</td>\n",
       "      <td>Vikings</td>\n",
       "      <td>1</td>\n",
       "      <td>Bethel-Thompson, McLeod</td>\n",
       "      <td>QB</td>\n",
       "    </tr>\n",
       "    <tr>\n",
       "      <th>91</th>\n",
       "      <td>Probable</td>\n",
       "      <td>right elbow</td>\n",
       "      <td>Flynn, Matt  Flynn, M.  QB</td>\n",
       "      <td>2013</td>\n",
       "      <td>Regular Season</td>\n",
       "      <td>Raiders</td>\n",
       "      <td>1</td>\n",
       "      <td>Flynn, Matt</td>\n",
       "      <td>QB</td>\n",
       "    </tr>\n",
       "  </tbody>\n",
       "</table>\n",
       "</div>"
      ],
      "text/plain": [
       "   Game Status         Injury  \\\n",
       "13    Probable  left shoulder   \n",
       "26    Probable           knee   \n",
       "56         Out          ankle   \n",
       "75    Probable        illness   \n",
       "91    Probable    right elbow   \n",
       "\n",
       "                                              Player  season      seasonType  \\\n",
       "13                 Osweiler, Brock  Osweiler, B.  QB    2013  Regular Season   \n",
       "26                        Manuel, EJ  Manuel, E.  QB    2013  Regular Season   \n",
       "56                       Devlin, Pat  Devlin, P.  QB    2013  Regular Season   \n",
       "75  Bethel-Thompson, McLeod  Bethel-Thompson, M.  QB    2013  Regular Season   \n",
       "91                        Flynn, Matt  Flynn, M.  QB    2013  Regular Season   \n",
       "\n",
       "    teamname  week               PlayerName PlayerPosition  \n",
       "13   Broncos     1          Osweiler, Brock             QB  \n",
       "26     Bills     1               Manuel, EJ             QB  \n",
       "56  Dolphins     1              Devlin, Pat             QB  \n",
       "75   Vikings     1  Bethel-Thompson, McLeod             QB  \n",
       "91   Raiders     1              Flynn, Matt             QB  "
      ]
     },
     "execution_count": 130,
     "metadata": {},
     "output_type": "execute_result"
    }
   ],
   "source": [
    "df_injury.head()"
   ]
  },
  {
   "cell_type": "code",
   "execution_count": 131,
   "metadata": {},
   "outputs": [
    {
     "name": "stdout",
     "output_type": "stream",
     "text": [
      "<class 'pandas.core.frame.DataFrame'>\n",
      "Index: 40247 entries, jaredzabransky/2495791 to steveramsey/2523725\n",
      "Data columns (total 28 columns):\n",
      "Name                         40247 non-null object\n",
      "Position                     10094 non-null object\n",
      "Year                         40247 non-null int64\n",
      "Season                       40247 non-null object\n",
      "Week                         40247 non-null int64\n",
      "Game Date                    40247 non-null object\n",
      "Home or Away                 40247 non-null object\n",
      "Opponent                     40247 non-null object\n",
      "Outcome                      40247 non-null object\n",
      "Score                        40247 non-null object\n",
      "Games Played                 40247 non-null int64\n",
      "Games Started                40247 non-null object\n",
      "Passes Completed             40247 non-null object\n",
      "Passes Attempted             40247 non-null object\n",
      "Completion Percentage        40247 non-null object\n",
      "Passing Yards                40247 non-null object\n",
      "Passing Yards Per Attempt    40247 non-null object\n",
      "TD Passes                    40247 non-null object\n",
      "Ints                         40247 non-null object\n",
      "Sacks                        40247 non-null object\n",
      "Sacked Yards Lost            40247 non-null object\n",
      "Passer Rating                40247 non-null float64\n",
      "Rushing Attempts             40247 non-null object\n",
      "Rushing Yards                40247 non-null object\n",
      "Yards Per Carry              40247 non-null object\n",
      "Rushing TDs                  40247 non-null object\n",
      "Fumbles                      40247 non-null object\n",
      "Fumbles Lost                 40247 non-null object\n",
      "dtypes: float64(1), int64(3), object(24)\n",
      "memory usage: 8.9+ MB\n"
     ]
    }
   ],
   "source": [
    "df_QB.info()"
   ]
  },
  {
   "cell_type": "code",
   "execution_count": 132,
   "metadata": {},
   "outputs": [],
   "source": [
    "df_QBComplete= df_QBComplete.append(df_qb2017)"
   ]
  },
  {
   "cell_type": "code",
   "execution_count": 133,
   "metadata": {},
   "outputs": [
    {
     "data": {
      "text/html": [
       "<div>\n",
       "<style>\n",
       "    .dataframe thead tr:only-child th {\n",
       "        text-align: right;\n",
       "    }\n",
       "\n",
       "    .dataframe thead th {\n",
       "        text-align: left;\n",
       "    }\n",
       "\n",
       "    .dataframe tbody tr th {\n",
       "        vertical-align: top;\n",
       "    }\n",
       "</style>\n",
       "<table border=\"1\" class=\"dataframe\">\n",
       "  <thead>\n",
       "    <tr style=\"text-align: right;\">\n",
       "      <th></th>\n",
       "      <th>Name</th>\n",
       "      <th>Year</th>\n",
       "      <th>Season</th>\n",
       "      <th>Week</th>\n",
       "      <th>Passer Rating</th>\n",
       "      <th>Games Played</th>\n",
       "    </tr>\n",
       "  </thead>\n",
       "  <tbody>\n",
       "    <tr>\n",
       "      <th>0</th>\n",
       "      <td>Savage, Tom</td>\n",
       "      <td>2016</td>\n",
       "      <td>Regular Season</td>\n",
       "      <td>1</td>\n",
       "      <td>0.0</td>\n",
       "      <td>0</td>\n",
       "    </tr>\n",
       "    <tr>\n",
       "      <th>1</th>\n",
       "      <td>Savage, Tom</td>\n",
       "      <td>2016</td>\n",
       "      <td>Regular Season</td>\n",
       "      <td>2</td>\n",
       "      <td>0.0</td>\n",
       "      <td>0</td>\n",
       "    </tr>\n",
       "    <tr>\n",
       "      <th>2</th>\n",
       "      <td>Savage, Tom</td>\n",
       "      <td>2016</td>\n",
       "      <td>Regular Season</td>\n",
       "      <td>3</td>\n",
       "      <td>0.0</td>\n",
       "      <td>0</td>\n",
       "    </tr>\n",
       "    <tr>\n",
       "      <th>3</th>\n",
       "      <td>Savage, Tom</td>\n",
       "      <td>2016</td>\n",
       "      <td>Regular Season</td>\n",
       "      <td>4</td>\n",
       "      <td>0.0</td>\n",
       "      <td>0</td>\n",
       "    </tr>\n",
       "    <tr>\n",
       "      <th>4</th>\n",
       "      <td>Savage, Tom</td>\n",
       "      <td>2016</td>\n",
       "      <td>Regular Season</td>\n",
       "      <td>5</td>\n",
       "      <td>0.0</td>\n",
       "      <td>0</td>\n",
       "    </tr>\n",
       "    <tr>\n",
       "      <th>5</th>\n",
       "      <td>Savage, Tom</td>\n",
       "      <td>2016</td>\n",
       "      <td>Regular Season</td>\n",
       "      <td>6</td>\n",
       "      <td>0.0</td>\n",
       "      <td>0</td>\n",
       "    </tr>\n",
       "    <tr>\n",
       "      <th>6</th>\n",
       "      <td>Savage, Tom</td>\n",
       "      <td>2016</td>\n",
       "      <td>Regular Season</td>\n",
       "      <td>7</td>\n",
       "      <td>0.0</td>\n",
       "      <td>0</td>\n",
       "    </tr>\n",
       "    <tr>\n",
       "      <th>7</th>\n",
       "      <td>Savage, Tom</td>\n",
       "      <td>2016</td>\n",
       "      <td>Regular Season</td>\n",
       "      <td>8</td>\n",
       "      <td>0.0</td>\n",
       "      <td>0</td>\n",
       "    </tr>\n",
       "    <tr>\n",
       "      <th>8</th>\n",
       "      <td>Savage, Tom</td>\n",
       "      <td>2016</td>\n",
       "      <td>Regular Season</td>\n",
       "      <td>10</td>\n",
       "      <td>0.0</td>\n",
       "      <td>0</td>\n",
       "    </tr>\n",
       "    <tr>\n",
       "      <th>9</th>\n",
       "      <td>Savage, Tom</td>\n",
       "      <td>2016</td>\n",
       "      <td>Regular Season</td>\n",
       "      <td>11</td>\n",
       "      <td>0.0</td>\n",
       "      <td>0</td>\n",
       "    </tr>\n",
       "    <tr>\n",
       "      <th>10</th>\n",
       "      <td>Savage, Tom</td>\n",
       "      <td>2016</td>\n",
       "      <td>Regular Season</td>\n",
       "      <td>12</td>\n",
       "      <td>0.0</td>\n",
       "      <td>0</td>\n",
       "    </tr>\n",
       "    <tr>\n",
       "      <th>11</th>\n",
       "      <td>Savage, Tom</td>\n",
       "      <td>2016</td>\n",
       "      <td>Regular Season</td>\n",
       "      <td>13</td>\n",
       "      <td>0.0</td>\n",
       "      <td>0</td>\n",
       "    </tr>\n",
       "    <tr>\n",
       "      <th>12</th>\n",
       "      <td>Savage, Tom</td>\n",
       "      <td>2016</td>\n",
       "      <td>Regular Season</td>\n",
       "      <td>14</td>\n",
       "      <td>0.0</td>\n",
       "      <td>0</td>\n",
       "    </tr>\n",
       "    <tr>\n",
       "      <th>13</th>\n",
       "      <td>Savage, Tom</td>\n",
       "      <td>2016</td>\n",
       "      <td>Regular Season</td>\n",
       "      <td>15</td>\n",
       "      <td>85.4</td>\n",
       "      <td>1</td>\n",
       "    </tr>\n",
       "    <tr>\n",
       "      <th>14</th>\n",
       "      <td>Savage, Tom</td>\n",
       "      <td>2016</td>\n",
       "      <td>Regular Season</td>\n",
       "      <td>16</td>\n",
       "      <td>79.1</td>\n",
       "      <td>1</td>\n",
       "    </tr>\n",
       "    <tr>\n",
       "      <th>15</th>\n",
       "      <td>Savage, Tom</td>\n",
       "      <td>2016</td>\n",
       "      <td>Regular Season</td>\n",
       "      <td>17</td>\n",
       "      <td>67.2</td>\n",
       "      <td>1</td>\n",
       "    </tr>\n",
       "    <tr>\n",
       "      <th>16</th>\n",
       "      <td>Savage, Tom</td>\n",
       "      <td>2016</td>\n",
       "      <td>Postseason</td>\n",
       "      <td>18</td>\n",
       "      <td>0.0</td>\n",
       "      <td>0</td>\n",
       "    </tr>\n",
       "    <tr>\n",
       "      <th>17</th>\n",
       "      <td>Savage, Tom</td>\n",
       "      <td>2016</td>\n",
       "      <td>Postseason</td>\n",
       "      <td>19</td>\n",
       "      <td>0.0</td>\n",
       "      <td>0</td>\n",
       "    </tr>\n",
       "    <tr>\n",
       "      <th>18</th>\n",
       "      <td>Savage, Tom</td>\n",
       "      <td>2014</td>\n",
       "      <td>Regular Season</td>\n",
       "      <td>1</td>\n",
       "      <td>0.0</td>\n",
       "      <td>0</td>\n",
       "    </tr>\n",
       "    <tr>\n",
       "      <th>19</th>\n",
       "      <td>Savage, Tom</td>\n",
       "      <td>2014</td>\n",
       "      <td>Regular Season</td>\n",
       "      <td>2</td>\n",
       "      <td>0.0</td>\n",
       "      <td>0</td>\n",
       "    </tr>\n",
       "    <tr>\n",
       "      <th>20</th>\n",
       "      <td>Savage, Tom</td>\n",
       "      <td>2014</td>\n",
       "      <td>Regular Season</td>\n",
       "      <td>3</td>\n",
       "      <td>0.0</td>\n",
       "      <td>0</td>\n",
       "    </tr>\n",
       "    <tr>\n",
       "      <th>21</th>\n",
       "      <td>Savage, Tom</td>\n",
       "      <td>2014</td>\n",
       "      <td>Regular Season</td>\n",
       "      <td>4</td>\n",
       "      <td>0.0</td>\n",
       "      <td>0</td>\n",
       "    </tr>\n",
       "    <tr>\n",
       "      <th>22</th>\n",
       "      <td>Savage, Tom</td>\n",
       "      <td>2014</td>\n",
       "      <td>Regular Season</td>\n",
       "      <td>5</td>\n",
       "      <td>0.0</td>\n",
       "      <td>0</td>\n",
       "    </tr>\n",
       "    <tr>\n",
       "      <th>23</th>\n",
       "      <td>Savage, Tom</td>\n",
       "      <td>2014</td>\n",
       "      <td>Regular Season</td>\n",
       "      <td>6</td>\n",
       "      <td>0.0</td>\n",
       "      <td>0</td>\n",
       "    </tr>\n",
       "    <tr>\n",
       "      <th>24</th>\n",
       "      <td>Savage, Tom</td>\n",
       "      <td>2014</td>\n",
       "      <td>Regular Season</td>\n",
       "      <td>7</td>\n",
       "      <td>0.0</td>\n",
       "      <td>0</td>\n",
       "    </tr>\n",
       "    <tr>\n",
       "      <th>25</th>\n",
       "      <td>Savage, Tom</td>\n",
       "      <td>2014</td>\n",
       "      <td>Regular Season</td>\n",
       "      <td>8</td>\n",
       "      <td>0.0</td>\n",
       "      <td>0</td>\n",
       "    </tr>\n",
       "    <tr>\n",
       "      <th>26</th>\n",
       "      <td>Savage, Tom</td>\n",
       "      <td>2014</td>\n",
       "      <td>Regular Season</td>\n",
       "      <td>9</td>\n",
       "      <td>0.0</td>\n",
       "      <td>0</td>\n",
       "    </tr>\n",
       "    <tr>\n",
       "      <th>27</th>\n",
       "      <td>Savage, Tom</td>\n",
       "      <td>2014</td>\n",
       "      <td>Regular Season</td>\n",
       "      <td>11</td>\n",
       "      <td>0.0</td>\n",
       "      <td>0</td>\n",
       "    </tr>\n",
       "    <tr>\n",
       "      <th>28</th>\n",
       "      <td>Savage, Tom</td>\n",
       "      <td>2014</td>\n",
       "      <td>Regular Season</td>\n",
       "      <td>12</td>\n",
       "      <td>0.0</td>\n",
       "      <td>0</td>\n",
       "    </tr>\n",
       "    <tr>\n",
       "      <th>29</th>\n",
       "      <td>Savage, Tom</td>\n",
       "      <td>2014</td>\n",
       "      <td>Regular Season</td>\n",
       "      <td>14</td>\n",
       "      <td>0.0</td>\n",
       "      <td>0</td>\n",
       "    </tr>\n",
       "    <tr>\n",
       "      <th>...</th>\n",
       "      <td>...</td>\n",
       "      <td>...</td>\n",
       "      <td>...</td>\n",
       "      <td>...</td>\n",
       "      <td>...</td>\n",
       "      <td>...</td>\n",
       "    </tr>\n",
       "    <tr>\n",
       "      <th>597</th>\n",
       "      <td>Bray, Tyler</td>\n",
       "      <td>2017</td>\n",
       "      <td>Regular Season</td>\n",
       "      <td>17</td>\n",
       "      <td>39.6</td>\n",
       "      <td>1</td>\n",
       "    </tr>\n",
       "    <tr>\n",
       "      <th>598</th>\n",
       "      <td>Cohen, Tarik</td>\n",
       "      <td>2017</td>\n",
       "      <td>Regular Season</td>\n",
       "      <td>17</td>\n",
       "      <td>39.6</td>\n",
       "      <td>1</td>\n",
       "    </tr>\n",
       "    <tr>\n",
       "      <th>599</th>\n",
       "      <td>Brees, Drew</td>\n",
       "      <td>2017</td>\n",
       "      <td>Postseason</td>\n",
       "      <td>18</td>\n",
       "      <td>115.2</td>\n",
       "      <td>1</td>\n",
       "    </tr>\n",
       "    <tr>\n",
       "      <th>600</th>\n",
       "      <td>Newton, Cam</td>\n",
       "      <td>2017</td>\n",
       "      <td>Postseason</td>\n",
       "      <td>18</td>\n",
       "      <td>105.1</td>\n",
       "      <td>1</td>\n",
       "    </tr>\n",
       "    <tr>\n",
       "      <th>601</th>\n",
       "      <td>Smith, Alex</td>\n",
       "      <td>2017</td>\n",
       "      <td>Postseason</td>\n",
       "      <td>18</td>\n",
       "      <td>116.2</td>\n",
       "      <td>1</td>\n",
       "    </tr>\n",
       "    <tr>\n",
       "      <th>602</th>\n",
       "      <td>Goff, Jared</td>\n",
       "      <td>2017</td>\n",
       "      <td>Postseason</td>\n",
       "      <td>18</td>\n",
       "      <td>77.9</td>\n",
       "      <td>1</td>\n",
       "    </tr>\n",
       "    <tr>\n",
       "      <th>603</th>\n",
       "      <td>Ryan, Matt</td>\n",
       "      <td>2017</td>\n",
       "      <td>Postseason</td>\n",
       "      <td>18</td>\n",
       "      <td>101.8</td>\n",
       "      <td>1</td>\n",
       "    </tr>\n",
       "    <tr>\n",
       "      <th>604</th>\n",
       "      <td>Mariota, Marcus</td>\n",
       "      <td>2017</td>\n",
       "      <td>Postseason</td>\n",
       "      <td>18</td>\n",
       "      <td>88.8</td>\n",
       "      <td>1</td>\n",
       "    </tr>\n",
       "    <tr>\n",
       "      <th>605</th>\n",
       "      <td>Taylor, Tyrod</td>\n",
       "      <td>2017</td>\n",
       "      <td>Postseason</td>\n",
       "      <td>18</td>\n",
       "      <td>44.2</td>\n",
       "      <td>1</td>\n",
       "    </tr>\n",
       "    <tr>\n",
       "      <th>606</th>\n",
       "      <td>Bortles, Blake</td>\n",
       "      <td>2017</td>\n",
       "      <td>Postseason</td>\n",
       "      <td>18</td>\n",
       "      <td>75.8</td>\n",
       "      <td>1</td>\n",
       "    </tr>\n",
       "    <tr>\n",
       "      <th>607</th>\n",
       "      <td>Peterman, Nathan</td>\n",
       "      <td>2017</td>\n",
       "      <td>Postseason</td>\n",
       "      <td>18</td>\n",
       "      <td>9.7</td>\n",
       "      <td>1</td>\n",
       "    </tr>\n",
       "    <tr>\n",
       "      <th>608</th>\n",
       "      <td>Anderson, Derek</td>\n",
       "      <td>2017</td>\n",
       "      <td>Postseason</td>\n",
       "      <td>18</td>\n",
       "      <td>39.6</td>\n",
       "      <td>1</td>\n",
       "    </tr>\n",
       "    <tr>\n",
       "      <th>609</th>\n",
       "      <td>Roethlisberger, Ben</td>\n",
       "      <td>2017</td>\n",
       "      <td>Postseason</td>\n",
       "      <td>19</td>\n",
       "      <td>110.5</td>\n",
       "      <td>1</td>\n",
       "    </tr>\n",
       "    <tr>\n",
       "      <th>610</th>\n",
       "      <td>Brady, Tom</td>\n",
       "      <td>2017</td>\n",
       "      <td>Postseason</td>\n",
       "      <td>19</td>\n",
       "      <td>102.5</td>\n",
       "      <td>1</td>\n",
       "    </tr>\n",
       "    <tr>\n",
       "      <th>611</th>\n",
       "      <td>Keenum, Case</td>\n",
       "      <td>2017</td>\n",
       "      <td>Postseason</td>\n",
       "      <td>19</td>\n",
       "      <td>85.2</td>\n",
       "      <td>1</td>\n",
       "    </tr>\n",
       "    <tr>\n",
       "      <th>612</th>\n",
       "      <td>Brees, Drew</td>\n",
       "      <td>2017</td>\n",
       "      <td>Postseason</td>\n",
       "      <td>19</td>\n",
       "      <td>89.0</td>\n",
       "      <td>1</td>\n",
       "    </tr>\n",
       "    <tr>\n",
       "      <th>613</th>\n",
       "      <td>Mariota, Marcus</td>\n",
       "      <td>2017</td>\n",
       "      <td>Postseason</td>\n",
       "      <td>19</td>\n",
       "      <td>98.3</td>\n",
       "      <td>1</td>\n",
       "    </tr>\n",
       "    <tr>\n",
       "      <th>614</th>\n",
       "      <td>Foles, Nick</td>\n",
       "      <td>2017</td>\n",
       "      <td>Postseason</td>\n",
       "      <td>19</td>\n",
       "      <td>100.1</td>\n",
       "      <td>1</td>\n",
       "    </tr>\n",
       "    <tr>\n",
       "      <th>615</th>\n",
       "      <td>Bortles, Blake</td>\n",
       "      <td>2017</td>\n",
       "      <td>Postseason</td>\n",
       "      <td>19</td>\n",
       "      <td>94.1</td>\n",
       "      <td>1</td>\n",
       "    </tr>\n",
       "    <tr>\n",
       "      <th>616</th>\n",
       "      <td>Ryan, Matt</td>\n",
       "      <td>2017</td>\n",
       "      <td>Postseason</td>\n",
       "      <td>19</td>\n",
       "      <td>86.6</td>\n",
       "      <td>1</td>\n",
       "    </tr>\n",
       "    <tr>\n",
       "      <th>617</th>\n",
       "      <td>Snead, Willie</td>\n",
       "      <td>2017</td>\n",
       "      <td>Postseason</td>\n",
       "      <td>19</td>\n",
       "      <td>39.6</td>\n",
       "      <td>1</td>\n",
       "    </tr>\n",
       "    <tr>\n",
       "      <th>618</th>\n",
       "      <td>Foles, Nick</td>\n",
       "      <td>2017</td>\n",
       "      <td>Postseason</td>\n",
       "      <td>20</td>\n",
       "      <td>141.4</td>\n",
       "      <td>1</td>\n",
       "    </tr>\n",
       "    <tr>\n",
       "      <th>619</th>\n",
       "      <td>Bortles, Blake</td>\n",
       "      <td>2017</td>\n",
       "      <td>Postseason</td>\n",
       "      <td>20</td>\n",
       "      <td>98.5</td>\n",
       "      <td>1</td>\n",
       "    </tr>\n",
       "    <tr>\n",
       "      <th>620</th>\n",
       "      <td>Brady, Tom</td>\n",
       "      <td>2017</td>\n",
       "      <td>Postseason</td>\n",
       "      <td>20</td>\n",
       "      <td>108.4</td>\n",
       "      <td>1</td>\n",
       "    </tr>\n",
       "    <tr>\n",
       "      <th>621</th>\n",
       "      <td>Keenum, Case</td>\n",
       "      <td>2017</td>\n",
       "      <td>Postseason</td>\n",
       "      <td>20</td>\n",
       "      <td>63.8</td>\n",
       "      <td>1</td>\n",
       "    </tr>\n",
       "    <tr>\n",
       "      <th>622</th>\n",
       "      <td>Amendola, Danny</td>\n",
       "      <td>2017</td>\n",
       "      <td>Postseason</td>\n",
       "      <td>20</td>\n",
       "      <td>118.8</td>\n",
       "      <td>1</td>\n",
       "    </tr>\n",
       "    <tr>\n",
       "      <th>623</th>\n",
       "      <td>Brady, Tom</td>\n",
       "      <td>2017</td>\n",
       "      <td>Postseason</td>\n",
       "      <td>22</td>\n",
       "      <td>115.4</td>\n",
       "      <td>1</td>\n",
       "    </tr>\n",
       "    <tr>\n",
       "      <th>624</th>\n",
       "      <td>Foles, Nick</td>\n",
       "      <td>2017</td>\n",
       "      <td>Postseason</td>\n",
       "      <td>22</td>\n",
       "      <td>106.1</td>\n",
       "      <td>1</td>\n",
       "    </tr>\n",
       "    <tr>\n",
       "      <th>625</th>\n",
       "      <td>Burton, Trey</td>\n",
       "      <td>2017</td>\n",
       "      <td>Postseason</td>\n",
       "      <td>22</td>\n",
       "      <td>118.8</td>\n",
       "      <td>1</td>\n",
       "    </tr>\n",
       "    <tr>\n",
       "      <th>626</th>\n",
       "      <td>Amendola, Danny</td>\n",
       "      <td>2017</td>\n",
       "      <td>Postseason</td>\n",
       "      <td>22</td>\n",
       "      <td>39.6</td>\n",
       "      <td>1</td>\n",
       "    </tr>\n",
       "  </tbody>\n",
       "</table>\n",
       "<p>5131 rows × 6 columns</p>\n",
       "</div>"
      ],
      "text/plain": [
       "                    Name  Year          Season  Week  Passer Rating  \\\n",
       "0            Savage, Tom  2016  Regular Season     1            0.0   \n",
       "1            Savage, Tom  2016  Regular Season     2            0.0   \n",
       "2            Savage, Tom  2016  Regular Season     3            0.0   \n",
       "3            Savage, Tom  2016  Regular Season     4            0.0   \n",
       "4            Savage, Tom  2016  Regular Season     5            0.0   \n",
       "5            Savage, Tom  2016  Regular Season     6            0.0   \n",
       "6            Savage, Tom  2016  Regular Season     7            0.0   \n",
       "7            Savage, Tom  2016  Regular Season     8            0.0   \n",
       "8            Savage, Tom  2016  Regular Season    10            0.0   \n",
       "9            Savage, Tom  2016  Regular Season    11            0.0   \n",
       "10           Savage, Tom  2016  Regular Season    12            0.0   \n",
       "11           Savage, Tom  2016  Regular Season    13            0.0   \n",
       "12           Savage, Tom  2016  Regular Season    14            0.0   \n",
       "13           Savage, Tom  2016  Regular Season    15           85.4   \n",
       "14           Savage, Tom  2016  Regular Season    16           79.1   \n",
       "15           Savage, Tom  2016  Regular Season    17           67.2   \n",
       "16           Savage, Tom  2016      Postseason    18            0.0   \n",
       "17           Savage, Tom  2016      Postseason    19            0.0   \n",
       "18           Savage, Tom  2014  Regular Season     1            0.0   \n",
       "19           Savage, Tom  2014  Regular Season     2            0.0   \n",
       "20           Savage, Tom  2014  Regular Season     3            0.0   \n",
       "21           Savage, Tom  2014  Regular Season     4            0.0   \n",
       "22           Savage, Tom  2014  Regular Season     5            0.0   \n",
       "23           Savage, Tom  2014  Regular Season     6            0.0   \n",
       "24           Savage, Tom  2014  Regular Season     7            0.0   \n",
       "25           Savage, Tom  2014  Regular Season     8            0.0   \n",
       "26           Savage, Tom  2014  Regular Season     9            0.0   \n",
       "27           Savage, Tom  2014  Regular Season    11            0.0   \n",
       "28           Savage, Tom  2014  Regular Season    12            0.0   \n",
       "29           Savage, Tom  2014  Regular Season    14            0.0   \n",
       "..                   ...   ...             ...   ...            ...   \n",
       "597          Bray, Tyler  2017  Regular Season    17           39.6   \n",
       "598         Cohen, Tarik  2017  Regular Season    17           39.6   \n",
       "599          Brees, Drew  2017      Postseason    18          115.2   \n",
       "600          Newton, Cam  2017      Postseason    18          105.1   \n",
       "601          Smith, Alex  2017      Postseason    18          116.2   \n",
       "602          Goff, Jared  2017      Postseason    18           77.9   \n",
       "603           Ryan, Matt  2017      Postseason    18          101.8   \n",
       "604      Mariota, Marcus  2017      Postseason    18           88.8   \n",
       "605        Taylor, Tyrod  2017      Postseason    18           44.2   \n",
       "606       Bortles, Blake  2017      Postseason    18           75.8   \n",
       "607     Peterman, Nathan  2017      Postseason    18            9.7   \n",
       "608      Anderson, Derek  2017      Postseason    18           39.6   \n",
       "609  Roethlisberger, Ben  2017      Postseason    19          110.5   \n",
       "610           Brady, Tom  2017      Postseason    19          102.5   \n",
       "611         Keenum, Case  2017      Postseason    19           85.2   \n",
       "612          Brees, Drew  2017      Postseason    19           89.0   \n",
       "613      Mariota, Marcus  2017      Postseason    19           98.3   \n",
       "614          Foles, Nick  2017      Postseason    19          100.1   \n",
       "615       Bortles, Blake  2017      Postseason    19           94.1   \n",
       "616           Ryan, Matt  2017      Postseason    19           86.6   \n",
       "617        Snead, Willie  2017      Postseason    19           39.6   \n",
       "618          Foles, Nick  2017      Postseason    20          141.4   \n",
       "619       Bortles, Blake  2017      Postseason    20           98.5   \n",
       "620           Brady, Tom  2017      Postseason    20          108.4   \n",
       "621         Keenum, Case  2017      Postseason    20           63.8   \n",
       "622      Amendola, Danny  2017      Postseason    20          118.8   \n",
       "623           Brady, Tom  2017      Postseason    22          115.4   \n",
       "624          Foles, Nick  2017      Postseason    22          106.1   \n",
       "625         Burton, Trey  2017      Postseason    22          118.8   \n",
       "626      Amendola, Danny  2017      Postseason    22           39.6   \n",
       "\n",
       "     Games Played  \n",
       "0               0  \n",
       "1               0  \n",
       "2               0  \n",
       "3               0  \n",
       "4               0  \n",
       "5               0  \n",
       "6               0  \n",
       "7               0  \n",
       "8               0  \n",
       "9               0  \n",
       "10              0  \n",
       "11              0  \n",
       "12              0  \n",
       "13              1  \n",
       "14              1  \n",
       "15              1  \n",
       "16              0  \n",
       "17              0  \n",
       "18              0  \n",
       "19              0  \n",
       "20              0  \n",
       "21              0  \n",
       "22              0  \n",
       "23              0  \n",
       "24              0  \n",
       "25              0  \n",
       "26              0  \n",
       "27              0  \n",
       "28              0  \n",
       "29              0  \n",
       "..            ...  \n",
       "597             1  \n",
       "598             1  \n",
       "599             1  \n",
       "600             1  \n",
       "601             1  \n",
       "602             1  \n",
       "603             1  \n",
       "604             1  \n",
       "605             1  \n",
       "606             1  \n",
       "607             1  \n",
       "608             1  \n",
       "609             1  \n",
       "610             1  \n",
       "611             1  \n",
       "612             1  \n",
       "613             1  \n",
       "614             1  \n",
       "615             1  \n",
       "616             1  \n",
       "617             1  \n",
       "618             1  \n",
       "619             1  \n",
       "620             1  \n",
       "621             1  \n",
       "622             1  \n",
       "623             1  \n",
       "624             1  \n",
       "625             1  \n",
       "626             1  \n",
       "\n",
       "[5131 rows x 6 columns]"
      ]
     },
     "execution_count": 133,
     "metadata": {},
     "output_type": "execute_result"
    }
   ],
   "source": [
    "df_QBComplete"
   ]
  },
  {
   "cell_type": "code",
   "execution_count": 134,
   "metadata": {},
   "outputs": [],
   "source": [
    "# join data frames to get QB info with injury\n",
    "F=pd.merge(df_QBComplete,clean_injury,left_on =['Name','Year','Season','Week'],right_on =['Name','Year','Season','Week'],how = 'left')\n",
    "#pd.merge(sales,managers, left_on=['city','state'],right_on=['branch','state'],how='left')"
   ]
  },
  {
   "cell_type": "code",
   "execution_count": null,
   "metadata": {
    "collapsed": true
   },
   "outputs": [],
   "source": [
    "clean_qb.head()"
   ]
  },
  {
   "cell_type": "code",
   "execution_count": 137,
   "metadata": {},
   "outputs": [
    {
     "data": {
      "text/html": [
       "<div>\n",
       "<style>\n",
       "    .dataframe thead tr:only-child th {\n",
       "        text-align: right;\n",
       "    }\n",
       "\n",
       "    .dataframe thead th {\n",
       "        text-align: left;\n",
       "    }\n",
       "\n",
       "    .dataframe tbody tr th {\n",
       "        vertical-align: top;\n",
       "    }\n",
       "</style>\n",
       "<table border=\"1\" class=\"dataframe\">\n",
       "  <thead>\n",
       "    <tr style=\"text-align: right;\">\n",
       "      <th></th>\n",
       "      <th>Name</th>\n",
       "      <th>Year</th>\n",
       "      <th>Season</th>\n",
       "      <th>Week</th>\n",
       "      <th>Passer Rating</th>\n",
       "      <th>Games Played</th>\n",
       "    </tr>\n",
       "  </thead>\n",
       "  <tbody>\n",
       "    <tr>\n",
       "      <th>0</th>\n",
       "      <td>Smith, Alex</td>\n",
       "      <td>2017</td>\n",
       "      <td>Regular Season</td>\n",
       "      <td>1</td>\n",
       "      <td>148.6</td>\n",
       "      <td>1</td>\n",
       "    </tr>\n",
       "    <tr>\n",
       "      <th>1</th>\n",
       "      <td>Bradford, Sam</td>\n",
       "      <td>2017</td>\n",
       "      <td>Regular Season</td>\n",
       "      <td>1</td>\n",
       "      <td>143.0</td>\n",
       "      <td>1</td>\n",
       "    </tr>\n",
       "    <tr>\n",
       "      <th>2</th>\n",
       "      <td>Ryan, Matt</td>\n",
       "      <td>2017</td>\n",
       "      <td>Regular Season</td>\n",
       "      <td>1</td>\n",
       "      <td>116.1</td>\n",
       "      <td>1</td>\n",
       "    </tr>\n",
       "    <tr>\n",
       "      <th>3</th>\n",
       "      <td>Rodgers, Aaron</td>\n",
       "      <td>2017</td>\n",
       "      <td>Regular Season</td>\n",
       "      <td>1</td>\n",
       "      <td>86.5</td>\n",
       "      <td>1</td>\n",
       "    </tr>\n",
       "    <tr>\n",
       "      <th>4</th>\n",
       "      <td>Wentz, Carson</td>\n",
       "      <td>2017</td>\n",
       "      <td>Regular Season</td>\n",
       "      <td>1</td>\n",
       "      <td>96.8</td>\n",
       "      <td>1</td>\n",
       "    </tr>\n",
       "  </tbody>\n",
       "</table>\n",
       "</div>"
      ],
      "text/plain": [
       "             Name  Year          Season  Week  Passer Rating  Games Played\n",
       "0     Smith, Alex  2017  Regular Season     1          148.6             1\n",
       "1   Bradford, Sam  2017  Regular Season     1          143.0             1\n",
       "2      Ryan, Matt  2017  Regular Season     1          116.1             1\n",
       "3  Rodgers, Aaron  2017  Regular Season     1           86.5             1\n",
       "4   Wentz, Carson  2017  Regular Season     1           96.8             1"
      ]
     },
     "execution_count": 137,
     "metadata": {},
     "output_type": "execute_result"
    }
   ],
   "source": [
    "df_qb2017.head()"
   ]
  },
  {
   "cell_type": "code",
   "execution_count": 60,
   "metadata": {
    "collapsed": true
   },
   "outputs": [],
   "source": [
    "#df_QBComplete = clean_qb.copy()"
   ]
  },
  {
   "cell_type": "code",
   "execution_count": 138,
   "metadata": {
    "collapsed": true
   },
   "outputs": [],
   "source": [
    "# Mark  Playes to yes if Passer Rating is available and Injury data is Nan\n",
    "#F[(pd.to_numeric(F['Passer Rating'])<=0)&(F['Injury'].notnull())]\n",
    "F['Played'] = F.apply(lambda row: gameplayed(row),axis=1)"
   ]
  },
  {
   "cell_type": "code",
   "execution_count": 139,
   "metadata": {
    "collapsed": true
   },
   "outputs": [],
   "source": [
    "# prepare dataframe so it can be ranked\n",
    "# assign rank so it can start with rank 0 and add 1 if had injury\n",
    "\n",
    "F_sorted = F.sort_values(['Name', 'Year','Week'], ascending=[1, 1,1])\n",
    "F_sorted.reset_index(drop = True, inplace = True)\n",
    "F_sorted['Rank']=0\n",
    "\n",
    "for i,row in F_sorted.iterrows():\n",
    "    if (i == 0) or (F_sorted.loc[i-1].Name!= F_sorted.loc[i].Name):\n",
    "        #print(i)\n",
    "        continue\n",
    "    elif F_sorted.loc[i].Played=='Yes':\n",
    "        F_sorted.set_value(i,'Rank',F_sorted.loc[i-1].Rank)\n",
    "        #print('yes',a.loc[i].Rank,a.loc[i-1].Rank)\n",
    "    else:\n",
    "        F_sorted.set_value(i,'Rank',F_sorted.loc[i-1].Rank + 1)\n",
    "        #print('no',a.loc[i].Rank,a.loc[i-1].Rank+1)\n"
   ]
  },
  {
   "cell_type": "code",
   "execution_count": 141,
   "metadata": {
    "collapsed": true
   },
   "outputs": [],
   "source": [
    "# create aggregate for previous ratings\n",
    "F_mean =F_sorted[['Name','Passer Rating','Played','Rank']].groupby(['Name','Rank']).mean()"
   ]
  },
  {
   "cell_type": "code",
   "execution_count": 142,
   "metadata": {
    "collapsed": true
   },
   "outputs": [],
   "source": [
    "F_std =F_sorted[['Name','Passer Rating','Games Played','Played','Rank']].groupby(['Name','Games Played','Played','Rank']).std()"
   ]
  },
  {
   "cell_type": "code",
   "execution_count": 143,
   "metadata": {},
   "outputs": [
    {
     "data": {
      "text/plain": [
       "pandas.core.frame.DataFrame"
      ]
     },
     "execution_count": 143,
     "metadata": {},
     "output_type": "execute_result"
    }
   ],
   "source": [
    "type(F_mean)"
   ]
  },
  {
   "cell_type": "code",
   "execution_count": 145,
   "metadata": {},
   "outputs": [
    {
     "data": {
      "text/html": [
       "<div>\n",
       "<style>\n",
       "    .dataframe thead tr:only-child th {\n",
       "        text-align: right;\n",
       "    }\n",
       "\n",
       "    .dataframe thead th {\n",
       "        text-align: left;\n",
       "    }\n",
       "\n",
       "    .dataframe tbody tr th {\n",
       "        vertical-align: top;\n",
       "    }\n",
       "</style>\n",
       "<table border=\"1\" class=\"dataframe\">\n",
       "  <thead>\n",
       "    <tr style=\"text-align: right;\">\n",
       "      <th></th>\n",
       "      <th>Name</th>\n",
       "      <th>Rank</th>\n",
       "      <th>Passer Rating_Mean</th>\n",
       "    </tr>\n",
       "  </thead>\n",
       "  <tbody>\n",
       "    <tr>\n",
       "      <th>0</th>\n",
       "      <td>Allen, Brandon</td>\n",
       "      <td>0</td>\n",
       "      <td>0.000000</td>\n",
       "    </tr>\n",
       "    <tr>\n",
       "      <th>1</th>\n",
       "      <td>Amendola, Danny</td>\n",
       "      <td>0</td>\n",
       "      <td>79.200000</td>\n",
       "    </tr>\n",
       "    <tr>\n",
       "      <th>2</th>\n",
       "      <td>Anderson, Derek</td>\n",
       "      <td>0</td>\n",
       "      <td>20.178571</td>\n",
       "    </tr>\n",
       "    <tr>\n",
       "      <th>3</th>\n",
       "      <td>Anderson, Derek</td>\n",
       "      <td>1</td>\n",
       "      <td>10.216129</td>\n",
       "    </tr>\n",
       "    <tr>\n",
       "      <th>4</th>\n",
       "      <td>Anderson, Derek</td>\n",
       "      <td>2</td>\n",
       "      <td>29.700000</td>\n",
       "    </tr>\n",
       "  </tbody>\n",
       "</table>\n",
       "</div>"
      ],
      "text/plain": [
       "              Name  Rank  Passer Rating_Mean\n",
       "0   Allen, Brandon     0            0.000000\n",
       "1  Amendola, Danny     0           79.200000\n",
       "2  Anderson, Derek     0           20.178571\n",
       "3  Anderson, Derek     1           10.216129\n",
       "4  Anderson, Derek     2           29.700000"
      ]
     },
     "execution_count": 145,
     "metadata": {},
     "output_type": "execute_result"
    }
   ],
   "source": [
    "# Creating dataframe with proper index\n",
    "\n",
    "#F_mean_sorted = F_mean.sort_values(['Name', 'Rank'], ascending=[1, 1])\n",
    "F_mean_sorted = F_mean.add_suffix('_Mean').reset_index()\n",
    "#F_mean_sorted.add_suffix('_Count').reset_index(drop = True, inplace = True)\n",
    "#F_mean.add_suffix('_Count').reset_index()\n",
    "F_mean_sorted.sort_values(['Name', 'Rank'], ascending=[1, 1]).head()"
   ]
  },
  {
   "cell_type": "code",
   "execution_count": 43,
   "metadata": {},
   "outputs": [
    {
     "data": {
      "text/html": [
       "<div>\n",
       "<style>\n",
       "    .dataframe thead tr:only-child th {\n",
       "        text-align: right;\n",
       "    }\n",
       "\n",
       "    .dataframe thead th {\n",
       "        text-align: left;\n",
       "    }\n",
       "\n",
       "    .dataframe tbody tr th {\n",
       "        vertical-align: top;\n",
       "    }\n",
       "</style>\n",
       "<table border=\"1\" class=\"dataframe\">\n",
       "  <thead>\n",
       "    <tr style=\"text-align: right;\">\n",
       "      <th></th>\n",
       "      <th>Name</th>\n",
       "      <th>Rank</th>\n",
       "      <th>Passer Rating_Mean</th>\n",
       "    </tr>\n",
       "  </thead>\n",
       "  <tbody>\n",
       "    <tr>\n",
       "      <th>0</th>\n",
       "      <td>Allen, Brandon</td>\n",
       "      <td>0</td>\n",
       "      <td>0.000000</td>\n",
       "    </tr>\n",
       "    <tr>\n",
       "      <th>1</th>\n",
       "      <td>Amendola, Danny</td>\n",
       "      <td>0</td>\n",
       "      <td>79.200000</td>\n",
       "    </tr>\n",
       "    <tr>\n",
       "      <th>2</th>\n",
       "      <td>Anderson, Derek</td>\n",
       "      <td>0</td>\n",
       "      <td>20.178571</td>\n",
       "    </tr>\n",
       "    <tr>\n",
       "      <th>3</th>\n",
       "      <td>Anderson, Derek</td>\n",
       "      <td>1</td>\n",
       "      <td>10.216129</td>\n",
       "    </tr>\n",
       "    <tr>\n",
       "      <th>4</th>\n",
       "      <td>Anderson, Derek</td>\n",
       "      <td>2</td>\n",
       "      <td>29.700000</td>\n",
       "    </tr>\n",
       "    <tr>\n",
       "      <th>5</th>\n",
       "      <td>Beathard, C.J.</td>\n",
       "      <td>0</td>\n",
       "      <td>72.833333</td>\n",
       "    </tr>\n",
       "    <tr>\n",
       "      <th>6</th>\n",
       "      <td>Bortles, Blake</td>\n",
       "      <td>0</td>\n",
       "      <td>78.988060</td>\n",
       "    </tr>\n",
       "    <tr>\n",
       "      <th>7</th>\n",
       "      <td>Boykin, Trevone</td>\n",
       "      <td>0</td>\n",
       "      <td>18.168750</td>\n",
       "    </tr>\n",
       "  </tbody>\n",
       "</table>\n",
       "</div>"
      ],
      "text/plain": [
       "              Name  Rank  Passer Rating_Mean\n",
       "0   Allen, Brandon     0            0.000000\n",
       "1  Amendola, Danny     0           79.200000\n",
       "2  Anderson, Derek     0           20.178571\n",
       "3  Anderson, Derek     1           10.216129\n",
       "4  Anderson, Derek     2           29.700000\n",
       "5   Beathard, C.J.     0           72.833333\n",
       "6   Bortles, Blake     0           78.988060\n",
       "7  Boykin, Trevone     0           18.168750"
      ]
     },
     "execution_count": 43,
     "metadata": {},
     "output_type": "execute_result"
    }
   ],
   "source": [
    "F_mean_sorted.head(8)"
   ]
  },
  {
   "cell_type": "code",
   "execution_count": 146,
   "metadata": {
    "collapsed": true
   },
   "outputs": [],
   "source": [
    "# Assign Previous rating if available else assign both to same\n",
    "for i,row in F_mean_sorted.iterrows():\n",
    "    \n",
    "    if F_mean_sorted.loc[i]['Rank']==0:\n",
    "        F_mean_sorted.set_value(i,'PrevRating',F_mean_sorted.loc[i]['Passer Rating_Mean'])\n",
    "        F_mean_sorted.set_value(i,'PrevRank',F_mean_sorted.loc[i]['Rank'])\n",
    "        #print(F_mean_sorted.loc[i]['Name'],F_mean_sorted.loc[i]['Passer Rating_Mean'],F_mean_sorted.loc[i]['Rank'])\n",
    "    else:\n",
    "        F_mean_sorted.set_value(i,'PrevRating',F_mean_sorted.loc[i-1]['Passer Rating_Mean'])\n",
    "        F_mean_sorted.set_value(i,'PrevRank',F_mean_sorted.loc[i-1]['Rank'])\n",
    "        #print(F_mean_sorted.loc[i]['Name'],F_mean_sorted.loc[i-1]['Name'],F_mean_sorted.loc[i]['Passer Rating_Mean'],F_mean_sorted.loc[i-1]['Passer Rating_Mean'],F_mean_sorted.loc[i]['Rank'],F_mean_sorted.loc[i-1]['Rank'])"
   ]
  },
  {
   "cell_type": "code",
   "execution_count": 147,
   "metadata": {},
   "outputs": [
    {
     "data": {
      "text/plain": [
       "Injury\n",
       "knee                  3244\n",
       "ankle                 2574\n",
       "hamstring             1876\n",
       "shoulder              1421\n",
       "concussion            1145\n",
       "foot                   974\n",
       "groin                  889\n",
       "back                   672\n",
       "calf                   513\n",
       "hip                    503\n",
       "not injury related     490\n",
       "illness                418\n",
       "toe                    406\n",
       "neck                   340\n",
       "thigh                  306\n",
       "hand                   304\n",
       "quadriceps             237\n",
       "elbow                  203\n",
       "ribs                   200\n",
       "wrist                  166\n",
       "Name: Player, dtype: int64"
      ]
     },
     "execution_count": 147,
     "metadata": {},
     "output_type": "execute_result"
    }
   ],
   "source": [
    "inj_plyr = df_injury_Original.groupby(['Injury'],as_index=False)['Player'].count().sort_values(['Player'],ascending = [0]).head(10)\n",
    "inj_plyr_20 = df_injury_Original.groupby(['Injury'],as_index=False)['Player'].count().sort_values(['Player'],ascending = [0]).head(20)\n",
    "df_injury_Original.groupby('Injury')['Player'].count().sort_values(ascending = False).head(20)"
   ]
  },
  {
   "cell_type": "code",
   "execution_count": 151,
   "metadata": {},
   "outputs": [
    {
     "data": {
      "text/html": [
       "<div>\n",
       "<style>\n",
       "    .dataframe thead tr:only-child th {\n",
       "        text-align: right;\n",
       "    }\n",
       "\n",
       "    .dataframe thead th {\n",
       "        text-align: left;\n",
       "    }\n",
       "\n",
       "    .dataframe tbody tr th {\n",
       "        vertical-align: top;\n",
       "    }\n",
       "</style>\n",
       "<table border=\"1\" class=\"dataframe\">\n",
       "  <thead>\n",
       "    <tr style=\"text-align: right;\">\n",
       "      <th></th>\n",
       "      <th>season</th>\n",
       "      <th>Player</th>\n",
       "    </tr>\n",
       "  </thead>\n",
       "  <tbody>\n",
       "    <tr>\n",
       "      <th>0</th>\n",
       "      <td>2013</td>\n",
       "      <td>5357</td>\n",
       "    </tr>\n",
       "    <tr>\n",
       "      <th>1</th>\n",
       "      <td>2014</td>\n",
       "      <td>5660</td>\n",
       "    </tr>\n",
       "    <tr>\n",
       "      <th>2</th>\n",
       "      <td>2015</td>\n",
       "      <td>6498</td>\n",
       "    </tr>\n",
       "    <tr>\n",
       "      <th>3</th>\n",
       "      <td>2016</td>\n",
       "      <td>3127</td>\n",
       "    </tr>\n",
       "  </tbody>\n",
       "</table>\n",
       "</div>"
      ],
      "text/plain": [
       "   season  Player\n",
       "0    2013    5357\n",
       "1    2014    5660\n",
       "2    2015    6498\n",
       "3    2016    3127"
      ]
     },
     "execution_count": 151,
     "metadata": {},
     "output_type": "execute_result"
    }
   ],
   "source": [
    "inj_year = df_injury_Original.groupby(['season'],as_index=False)['Player'].count().sort_values(['season'],ascending = [1]).head(10)\n",
    "inj_year2013_week = df_injury_Original[df_injury_Original.season == 2013].groupby(['season','week'],as_index=False)['Player'].count().sort_values(['season','week'],ascending = [1,1])\n",
    "inj_year2014_week = df_injury_Original[df_injury_Original.season == 2014].groupby(['season','week'],as_index=False)['Player'].count().sort_values(['season','week'],ascending = [1,1])\n",
    "inj_year2015_week = df_injury_Original[df_injury_Original.season == 2015].groupby(['season','week'],as_index=False)['Player'].count().sort_values(['season','week'],ascending = [1,1])\n",
    "inj_year2016_week = df_injury_Original[df_injury_Original.season == 2016].groupby(['season','week'],as_index=False)['Player'].count().sort_values(['season','week'],ascending = [1,1])\n",
    "df_injury_Original.groupby(['season'],as_index=False)['Player'].count().sort_values(['season'],ascending = [1]).head(10)"
   ]
  },
  {
   "cell_type": "code",
   "execution_count": 152,
   "metadata": {},
   "outputs": [
    {
     "data": {
      "text/html": [
       "<div>\n",
       "<style>\n",
       "    .dataframe thead tr:only-child th {\n",
       "        text-align: right;\n",
       "    }\n",
       "\n",
       "    .dataframe thead th {\n",
       "        text-align: left;\n",
       "    }\n",
       "\n",
       "    .dataframe tbody tr th {\n",
       "        vertical-align: top;\n",
       "    }\n",
       "</style>\n",
       "<table border=\"1\" class=\"dataframe\">\n",
       "  <thead>\n",
       "    <tr style=\"text-align: right;\">\n",
       "      <th></th>\n",
       "      <th></th>\n",
       "      <th>Player</th>\n",
       "    </tr>\n",
       "    <tr>\n",
       "      <th>season</th>\n",
       "      <th>week</th>\n",
       "      <th></th>\n",
       "    </tr>\n",
       "  </thead>\n",
       "  <tbody>\n",
       "    <tr>\n",
       "      <th rowspan=\"5\" valign=\"top\">2013</th>\n",
       "      <th>1</th>\n",
       "      <td>239</td>\n",
       "    </tr>\n",
       "    <tr>\n",
       "      <th>2</th>\n",
       "      <td>266</td>\n",
       "    </tr>\n",
       "    <tr>\n",
       "      <th>3</th>\n",
       "      <td>309</td>\n",
       "    </tr>\n",
       "    <tr>\n",
       "      <th>4</th>\n",
       "      <td>322</td>\n",
       "    </tr>\n",
       "    <tr>\n",
       "      <th>5</th>\n",
       "      <td>305</td>\n",
       "    </tr>\n",
       "  </tbody>\n",
       "</table>\n",
       "</div>"
      ],
      "text/plain": [
       "             Player\n",
       "season week        \n",
       "2013   1        239\n",
       "       2        266\n",
       "       3        309\n",
       "       4        322\n",
       "       5        305"
      ]
     },
     "execution_count": 152,
     "metadata": {},
     "output_type": "execute_result"
    }
   ],
   "source": [
    "#inj_year.set_index('season',inplace =True)\n",
    "inj_year2013_week.set_index(['season','week'],inplace =True,drop= True)\n",
    "inj_year2014_week.set_index(['season','week'],inplace =True,drop= True)\n",
    "inj_year2015_week.set_index(['season','week'],inplace =True,drop= True)\n",
    "inj_year2016_week.set_index(['season','week'],inplace =True,drop= True)\n",
    "inj_year_week.head()\n",
    "\n",
    "#inj_year.head()"
   ]
  },
  {
   "cell_type": "code",
   "execution_count": 153,
   "metadata": {
    "collapsed": true
   },
   "outputs": [],
   "source": [
    "%matplotlib inline\n",
    "import matplotlib.pyplot as plt"
   ]
  },
  {
   "cell_type": "code",
   "execution_count": 154,
   "metadata": {},
   "outputs": [
    {
     "name": "stdout",
     "output_type": "stream",
     "text": [
      "Populating the interactive namespace from numpy and matplotlib\n"
     ]
    },
    {
     "data": {
      "image/png": "[encoded data removed]",
      "text/plain": [
       "<matplotlib.figure.Figure at 0x237644932e8>"
      ]
     },
     "metadata": {},
     "output_type": "display_data"
    },
    {
     "data": {
      "image/png": "[encoded data removed]",
      "text/plain": [
       "<matplotlib.figure.Figure at 0x237639a52e8>"
      ]
     },
     "metadata": {},
     "output_type": "display_data"
    },
    {
     "data": {
      "image/png": "[encoded data removed]",
      "text/plain": [
       "<matplotlib.figure.Figure at 0x237642d7978>"
      ]
     },
     "metadata": {},
     "output_type": "display_data"
    },
    {
     "data": {
      "image/png": "[encoded data removed]",
      "text/plain": [
       "<matplotlib.figure.Figure at 0x23763cd0898>"
      ]
     },
     "metadata": {},
     "output_type": "display_data"
    }
   ],
   "source": [
    "%pylab inline\n",
    "pylab.rcParams['figure.figsize'] = (5,3)\n",
    "\n",
    "#fig, axs = plt.subplots(1,2)\n",
    "#plt.subplot(2,1,1)\n",
    "\n",
    "inj_year2013_week[['Player']].plot(legend=False)\n",
    "plt.title('Injured Player per week for Year 2013')\n",
    "#plt.subplot(2,1,2)\n",
    "\n",
    "inj_year2014_week[['Player']].plot(legend=False)\n",
    "plt.title('Injured Player per week for Year 2014')\n",
    "\n",
    "#plt.subplot(2,2,1)\n",
    "\n",
    "inj_year2015_week[['Player']].plot(legend=False)\n",
    "plt.title('Injured Player per week for Year 2015')\n",
    "\n",
    "#plt.subplot(2,2,2)\n",
    "\n",
    "inj_year2016_week[['Player']].plot(legend=False)\n",
    "plt.title('Injured Player per week for Year 2016')\n",
    "\n",
    "plt.show()"
   ]
  },
  {
   "cell_type": "code",
   "execution_count": 155,
   "metadata": {},
   "outputs": [
    {
     "data": {
      "text/html": [
       "<div>\n",
       "<style>\n",
       "    .dataframe thead tr:only-child th {\n",
       "        text-align: right;\n",
       "    }\n",
       "\n",
       "    .dataframe thead th {\n",
       "        text-align: left;\n",
       "    }\n",
       "\n",
       "    .dataframe tbody tr th {\n",
       "        vertical-align: top;\n",
       "    }\n",
       "</style>\n",
       "<table border=\"1\" class=\"dataframe\">\n",
       "  <thead>\n",
       "    <tr style=\"text-align: right;\">\n",
       "      <th></th>\n",
       "      <th>season</th>\n",
       "      <th>Injury</th>\n",
       "      <th>Player</th>\n",
       "    </tr>\n",
       "  </thead>\n",
       "  <tbody>\n",
       "    <tr>\n",
       "      <th>115</th>\n",
       "      <td>2013</td>\n",
       "      <td>knee</td>\n",
       "      <td>951</td>\n",
       "    </tr>\n",
       "    <tr>\n",
       "      <th>8</th>\n",
       "      <td>2013</td>\n",
       "      <td>ankle</td>\n",
       "      <td>587</td>\n",
       "    </tr>\n",
       "    <tr>\n",
       "      <th>84</th>\n",
       "      <td>2013</td>\n",
       "      <td>hamstring</td>\n",
       "      <td>457</td>\n",
       "    </tr>\n",
       "    <tr>\n",
       "      <th>182</th>\n",
       "      <td>2013</td>\n",
       "      <td>shoulder</td>\n",
       "      <td>386</td>\n",
       "    </tr>\n",
       "    <tr>\n",
       "      <th>61</th>\n",
       "      <td>2013</td>\n",
       "      <td>foot</td>\n",
       "      <td>284</td>\n",
       "    </tr>\n",
       "    <tr>\n",
       "      <th>76</th>\n",
       "      <td>2013</td>\n",
       "      <td>groin</td>\n",
       "      <td>277</td>\n",
       "    </tr>\n",
       "    <tr>\n",
       "      <th>40</th>\n",
       "      <td>2013</td>\n",
       "      <td>concussion</td>\n",
       "      <td>219</td>\n",
       "    </tr>\n",
       "    <tr>\n",
       "      <th>202</th>\n",
       "      <td>2013</td>\n",
       "      <td>toe</td>\n",
       "      <td>141</td>\n",
       "    </tr>\n",
       "    <tr>\n",
       "      <th>18</th>\n",
       "      <td>2013</td>\n",
       "      <td>back</td>\n",
       "      <td>139</td>\n",
       "    </tr>\n",
       "    <tr>\n",
       "      <th>99</th>\n",
       "      <td>2013</td>\n",
       "      <td>hip</td>\n",
       "      <td>136</td>\n",
       "    </tr>\n",
       "  </tbody>\n",
       "</table>\n",
       "</div>"
      ],
      "text/plain": [
       "     season      Injury  Player\n",
       "115    2013        knee     951\n",
       "8      2013       ankle     587\n",
       "84     2013   hamstring     457\n",
       "182    2013    shoulder     386\n",
       "61     2013        foot     284\n",
       "76     2013       groin     277\n",
       "40     2013  concussion     219\n",
       "202    2013         toe     141\n",
       "18     2013        back     139\n",
       "99     2013         hip     136"
      ]
     },
     "execution_count": 155,
     "metadata": {},
     "output_type": "execute_result"
    }
   ],
   "source": [
    "inj_plyr_year = df_injury_Original.groupby(['season','Injury'],as_index=False)['Player'].count()\n",
    "inj_plyr_year_2013 = df_injury_Original[df_injury_Original.season==2013].groupby(['Injury'],as_index=False)['Player'].count().sort_values(['Player'],ascending = [0]).head(10)\n",
    "inj_plyr_year_2014 = df_injury_Original[df_injury_Original.season==2014].groupby(['Injury'],as_index=False)['Player'].count().sort_values(['Player'],ascending = [0]).head(10)\n",
    "inj_plyr_year_2015 = df_injury_Original[df_injury_Original.season==2015].groupby(['Injury'],as_index=False)['Player'].count().sort_values(['Player'],ascending = [0]).head(10)\n",
    "inj_plyr_year_2016 = df_injury_Original[df_injury_Original.season==2016].groupby(['Injury'],as_index=False)['Player'].count().sort_values(['Player'],ascending = [0]).head(10)\n",
    "\n",
    "\n",
    "df_injury_Original.groupby(['season','Injury'],as_index=False)['Player'].count().sort_values(['season','Player'],ascending = [1,0]).head(10)"
   ]
  },
  {
   "cell_type": "code",
   "execution_count": 156,
   "metadata": {},
   "outputs": [
    {
     "data": {
      "text/plain": [
       "PlayerPosition\n",
       "LB    3201\n",
       "WR    2650\n",
       "CB    2379\n",
       "RB    2099\n",
       "S     1694\n",
       "TE    1590\n",
       "DE    1500\n",
       "T     1346\n",
       "DT    1182\n",
       "G     1145\n",
       "Name: Player, dtype: int64"
      ]
     },
     "execution_count": 156,
     "metadata": {},
     "output_type": "execute_result"
    }
   ],
   "source": [
    "ply_pos= df_injury_Original.groupby(['PlayerPosition'],as_index=False)['Player'].count().sort_values(['Player'],ascending=[0]).head(10)\n",
    "df_injury_Original.groupby(['PlayerPosition'])['Player'].count().sort_values(ascending = False).head(10)"
   ]
  },
  {
   "cell_type": "code",
   "execution_count": 157,
   "metadata": {
    "collapsed": true
   },
   "outputs": [],
   "source": [
    "%matplotlib inline\n",
    "import matplotlib.pyplot as plt"
   ]
  },
  {
   "cell_type": "code",
   "execution_count": 159,
   "metadata": {},
   "outputs": [
    {
     "data": {
      "image/png": "[encoded data removed]",
      "text/plain": [
       "<matplotlib.figure.Figure at 0x237642dbe48>"
      ]
     },
     "metadata": {},
     "output_type": "display_data"
    }
   ],
   "source": [
    "inj_year['Player'].plot.bar()\n",
    "plt.title('Injury by year')\n",
    "\n",
    "# Use plt.tight_layout() to improve the spacing between subplots\n",
    "#plt.tight_layout()\n",
    "plt.show()"
   ]
  },
  {
   "cell_type": "code",
   "execution_count": 162,
   "metadata": {},
   "outputs": [
    {
     "name": "stdout",
     "output_type": "stream",
     "text": [
      "Populating the interactive namespace from numpy and matplotlib\n"
     ]
    },
    {
     "data": {
      "image/png": "[encoded data removed]",
      "text/plain": [
       "<matplotlib.figure.Figure at 0x23763fc3a58>"
      ]
     },
     "metadata": {},
     "output_type": "display_data"
    }
   ],
   "source": [
    "%pylab inline\n",
    "pylab.rcParams['figure.figsize'] = (10,5)\n",
    "\n",
    "i =range(10)\n",
    "plt.bar(i,inj_plyr['Player'])\n",
    "plt.title('Injury for year 2013-2016')\n",
    "plt.xticks(i,inj_plyr['Injury'],rotation = 'vertical')\n",
    "plt.show()"
   ]
  },
  {
   "cell_type": "code",
   "execution_count": 163,
   "metadata": {},
   "outputs": [
    {
     "data": {
      "image/png": "[encoded data removed]",
      "text/plain": [
       "<matplotlib.figure.Figure at 0x23763f8b780>"
      ]
     },
     "metadata": {},
     "output_type": "display_data"
    },
    {
     "data": {
      "image/png": "[encoded data removed]",
      "text/plain": [
       "<matplotlib.figure.Figure at 0x23763c3feb8>"
      ]
     },
     "metadata": {},
     "output_type": "display_data"
    },
    {
     "data": {
      "image/png": "[encoded data removed]",
      "text/plain": [
       "<matplotlib.figure.Figure at 0x237646227f0>"
      ]
     },
     "metadata": {},
     "output_type": "display_data"
    },
    {
     "data": {
      "image/png": "[encoded data removed]",
      "text/plain": [
       "<matplotlib.figure.Figure at 0x237642f12e8>"
      ]
     },
     "metadata": {},
     "output_type": "display_data"
    }
   ],
   "source": [
    "\n",
    "plt.subplot(2,1,1)\n",
    "i =range(10)\n",
    "plt.bar(i,inj_plyr_year_2013['Player'])\n",
    "plt.title('Injury for Year 2013')\n",
    "plt.xticks(i,inj_plyr_year_2013['Injury'],rotation = 'vertical')\n",
    "plt.show()\n",
    "\n",
    "plt.subplot(2,1,2)\n",
    "i =range(10)\n",
    "plt.bar(i,inj_plyr_year_2014['Player'])\n",
    "plt.title('Injury for Year 2014')\n",
    "plt.xticks(i,inj_plyr_year_2013['Injury'],rotation = 'vertical')\n",
    "plt.show()\n",
    "\n",
    "\n",
    "plt.subplot(2,1,2)\n",
    "i =range(10)\n",
    "plt.bar(i,inj_plyr_year_2015['Player'])\n",
    "plt.title('Injury for Year 2015')\n",
    "plt.xticks(i,inj_plyr_year_2013['Injury'],rotation = 'vertical')\n",
    "plt.show()\n",
    "\n",
    "plt.subplot(2,1,2)\n",
    "i =range(10)\n",
    "plt.bar(i,inj_plyr_year_2016['Player'])\n",
    "plt.title('Injury for Year 2016')\n",
    "plt.xticks(i,inj_plyr_year_2013['Injury'],rotation = 'vertical')\n",
    "plt.show()"
   ]
  },
  {
   "cell_type": "code",
   "execution_count": 164,
   "metadata": {},
   "outputs": [
    {
     "name": "stdout",
     "output_type": "stream",
     "text": [
      "Populating the interactive namespace from numpy and matplotlib\n"
     ]
    },
    {
     "data": {
      "image/png": "[encoded data removed]",
      "text/plain": [
       "<matplotlib.figure.Figure at 0x237645cd518>"
      ]
     },
     "metadata": {},
     "output_type": "display_data"
    }
   ],
   "source": [
    "%pylab inline\n",
    "pylab.rcParams['figure.figsize'] = (10,5)\n",
    "\n",
    "i =range(10)\n",
    "plt.bar(i,ply_pos['Player'])\n",
    "plt.xticks(i,ply_pos['PlayerPosition'],rotation = 'vertical')\n",
    "plt.title('Injury by Player Position in the game')\n",
    "plt.show()"
   ]
  },
  {
   "cell_type": "code",
   "execution_count": 165,
   "metadata": {},
   "outputs": [
    {
     "data": {
      "text/html": [
       "<div>\n",
       "<style>\n",
       "    .dataframe thead tr:only-child th {\n",
       "        text-align: right;\n",
       "    }\n",
       "\n",
       "    .dataframe thead th {\n",
       "        text-align: left;\n",
       "    }\n",
       "\n",
       "    .dataframe tbody tr th {\n",
       "        vertical-align: top;\n",
       "    }\n",
       "</style>\n",
       "<table border=\"1\" class=\"dataframe\">\n",
       "  <thead>\n",
       "    <tr style=\"text-align: right;\">\n",
       "      <th></th>\n",
       "      <th>Name</th>\n",
       "      <th>Passer Rating_Mean</th>\n",
       "      <th>PrevRating</th>\n",
       "    </tr>\n",
       "  </thead>\n",
       "  <tbody>\n",
       "    <tr>\n",
       "      <th>12</th>\n",
       "      <td>Brees, Drew</td>\n",
       "      <td>100.795833</td>\n",
       "      <td>100.100000</td>\n",
       "    </tr>\n",
       "    <tr>\n",
       "      <th>275</th>\n",
       "      <td>Rodgers, Aaron</td>\n",
       "      <td>100.241538</td>\n",
       "      <td>0.000000</td>\n",
       "    </tr>\n",
       "    <tr>\n",
       "      <th>65</th>\n",
       "      <td>Foles, Nick</td>\n",
       "      <td>96.238889</td>\n",
       "      <td>69.885714</td>\n",
       "    </tr>\n",
       "    <tr>\n",
       "      <th>308</th>\n",
       "      <td>Smith, Alex</td>\n",
       "      <td>95.750000</td>\n",
       "      <td>91.300000</td>\n",
       "    </tr>\n",
       "    <tr>\n",
       "      <th>307</th>\n",
       "      <td>Smith, Alex</td>\n",
       "      <td>91.300000</td>\n",
       "      <td>90.103125</td>\n",
       "    </tr>\n",
       "  </tbody>\n",
       "</table>\n",
       "</div>"
      ],
      "text/plain": [
       "               Name  Passer Rating_Mean  PrevRating\n",
       "12      Brees, Drew          100.795833  100.100000\n",
       "275  Rodgers, Aaron          100.241538    0.000000\n",
       "65      Foles, Nick           96.238889   69.885714\n",
       "308     Smith, Alex           95.750000   91.300000\n",
       "307     Smith, Alex           91.300000   90.103125"
      ]
     },
     "execution_count": 165,
     "metadata": {},
     "output_type": "execute_result"
    }
   ],
   "source": [
    "topQB = F_mean_sorted[F_mean_sorted.Rank > 0  ]\n",
    "topQB[['Name','Passer Rating_Mean','PrevRating']].sort_values(['Passer Rating_Mean'],ascending=[0]).head(5)"
   ]
  },
  {
   "cell_type": "code",
   "execution_count": 166,
   "metadata": {},
   "outputs": [
    {
     "data": {
      "text/html": [
       "<div>\n",
       "<style>\n",
       "    .dataframe thead tr:only-child th {\n",
       "        text-align: right;\n",
       "    }\n",
       "\n",
       "    .dataframe thead th {\n",
       "        text-align: left;\n",
       "    }\n",
       "\n",
       "    .dataframe tbody tr th {\n",
       "        vertical-align: top;\n",
       "    }\n",
       "</style>\n",
       "<table border=\"1\" class=\"dataframe\">\n",
       "  <thead>\n",
       "    <tr style=\"text-align: right;\">\n",
       "      <th></th>\n",
       "      <th>Name</th>\n",
       "      <th>Passer Rating_Mean</th>\n",
       "    </tr>\n",
       "  </thead>\n",
       "  <tbody>\n",
       "    <tr>\n",
       "      <th>1</th>\n",
       "      <td>Brees, Drew</td>\n",
       "      <td>100.795833</td>\n",
       "    </tr>\n",
       "    <tr>\n",
       "      <th>46</th>\n",
       "      <td>Smith, Alex</td>\n",
       "      <td>93.525000</td>\n",
       "    </tr>\n",
       "    <tr>\n",
       "      <th>2</th>\n",
       "      <td>Bridgewater, Teddy</td>\n",
       "      <td>80.846667</td>\n",
       "    </tr>\n",
       "    <tr>\n",
       "      <th>36</th>\n",
       "      <td>Newton, Cam</td>\n",
       "      <td>80.575171</td>\n",
       "    </tr>\n",
       "    <tr>\n",
       "      <th>45</th>\n",
       "      <td>Siemian, Trevor</td>\n",
       "      <td>71.984375</td>\n",
       "    </tr>\n",
       "    <tr>\n",
       "      <th>10</th>\n",
       "      <td>Fitzpatrick, Ryan</td>\n",
       "      <td>59.000000</td>\n",
       "    </tr>\n",
       "    <tr>\n",
       "      <th>17</th>\n",
       "      <td>Hoyer, Brian</td>\n",
       "      <td>50.345139</td>\n",
       "    </tr>\n",
       "    <tr>\n",
       "      <th>9</th>\n",
       "      <td>Fales, David</td>\n",
       "      <td>44.325000</td>\n",
       "    </tr>\n",
       "    <tr>\n",
       "      <th>22</th>\n",
       "      <td>Kessler, Cody</td>\n",
       "      <td>43.975000</td>\n",
       "    </tr>\n",
       "    <tr>\n",
       "      <th>50</th>\n",
       "      <td>Taylor, Tyrod</td>\n",
       "      <td>42.917857</td>\n",
       "    </tr>\n",
       "  </tbody>\n",
       "</table>\n",
       "</div>"
      ],
      "text/plain": [
       "                  Name  Passer Rating_Mean\n",
       "1          Brees, Drew          100.795833\n",
       "46         Smith, Alex           93.525000\n",
       "2   Bridgewater, Teddy           80.846667\n",
       "36         Newton, Cam           80.575171\n",
       "45     Siemian, Trevor           71.984375\n",
       "10   Fitzpatrick, Ryan           59.000000\n",
       "17        Hoyer, Brian           50.345139\n",
       "9         Fales, David           44.325000\n",
       "22       Kessler, Cody           43.975000\n",
       "50       Taylor, Tyrod           42.917857"
      ]
     },
     "execution_count": 166,
     "metadata": {},
     "output_type": "execute_result"
    }
   ],
   "source": [
    "Top10QB = topQB[['Name','Passer Rating_Mean']].groupby('Name',as_index=False).mean().sort_values(['Passer Rating_Mean'],ascending=[0]).head(10)\n",
    "Top10QB"
   ]
  },
  {
   "cell_type": "code",
   "execution_count": 167,
   "metadata": {},
   "outputs": [
    {
     "name": "stdout",
     "output_type": "stream",
     "text": [
      "Populating the interactive namespace from numpy and matplotlib\n"
     ]
    },
    {
     "data": {
      "image/png": "[encoded data removed]",
      "text/plain": [
       "<matplotlib.figure.Figure at 0x23763f68dd8>"
      ]
     },
     "metadata": {},
     "output_type": "display_data"
    }
   ],
   "source": [
    "%pylab inline\n",
    "pylab.rcParams['figure.figsize'] = (10,5)\n",
    "\n",
    "i =range(10)\n",
    "plt.bar(i,Top10QB['Passer Rating_Mean'])\n",
    "plt.xticks(i,Top10QB['Name'],rotation = 'vertical')\n",
    "plt.title('Top QB ranked by Passer Rating Injured between Year 2013 - 2016')\n",
    "plt.ylabel('Passer Rating')\n",
    "plt.show()"
   ]
  },
  {
   "cell_type": "code",
   "execution_count": null,
   "metadata": {
    "collapsed": true
   },
   "outputs": [],
   "source": []
  },
  {
   "cell_type": "code",
   "execution_count": 168,
   "metadata": {},
   "outputs": [
    {
     "ename": "TypeError",
     "evalue": "'in <string>' requires string as left operand, not int",
     "output_type": "error",
     "traceback": [
      "\u001b[1;31m---------------------------------------------------------------------------\u001b[0m",
      "\u001b[1;31mTypeError\u001b[0m                                 Traceback (most recent call last)",
      "\u001b[1;32m<ipython-input-168-003246b8a755>\u001b[0m in \u001b[0;36m<module>\u001b[1;34m()\u001b[0m\n\u001b[1;32m----> 1\u001b[1;33m \u001b[0minj_year\u001b[0m\u001b[1;33m.\u001b[0m\u001b[0mreset_index\u001b[0m\u001b[1;33m(\u001b[0m\u001b[1;34m'season'\u001b[0m\u001b[1;33m)\u001b[0m\u001b[1;33m\u001b[0m\u001b[0m\n\u001b[0m\u001b[0;32m      2\u001b[0m \u001b[0minj_year\u001b[0m\u001b[1;33m.\u001b[0m\u001b[0mhead\u001b[0m\u001b[1;33m(\u001b[0m\u001b[1;33m)\u001b[0m\u001b[1;33m\u001b[0m\u001b[0m\n",
      "\u001b[1;32mC:\\Users\\darsa\\Anaconda3\\lib\\site-packages\\pandas\\core\\frame.py\u001b[0m in \u001b[0;36mreset_index\u001b[1;34m(self, level, drop, inplace, col_level, col_fill)\u001b[0m\n\u001b[0;32m   3053\u001b[0m                 \u001b[1;31m# to ndarray and maybe infer different dtype\u001b[0m\u001b[1;33m\u001b[0m\u001b[1;33m\u001b[0m\u001b[0m\n\u001b[0;32m   3054\u001b[0m                 \u001b[0mlevel_values\u001b[0m \u001b[1;33m=\u001b[0m \u001b[0m_maybe_casted_values\u001b[0m\u001b[1;33m(\u001b[0m\u001b[0mlev\u001b[0m\u001b[1;33m,\u001b[0m \u001b[0mlab\u001b[0m\u001b[1;33m)\u001b[0m\u001b[1;33m\u001b[0m\u001b[0m\n\u001b[1;32m-> 3055\u001b[1;33m                 \u001b[1;32mif\u001b[0m \u001b[0mlevel\u001b[0m \u001b[1;32mis\u001b[0m \u001b[1;32mNone\u001b[0m \u001b[1;32mor\u001b[0m \u001b[0mi\u001b[0m \u001b[1;32min\u001b[0m \u001b[0mlevel\u001b[0m\u001b[1;33m:\u001b[0m\u001b[1;33m\u001b[0m\u001b[0m\n\u001b[0m\u001b[0;32m   3056\u001b[0m                     \u001b[0mnew_obj\u001b[0m\u001b[1;33m.\u001b[0m\u001b[0minsert\u001b[0m\u001b[1;33m(\u001b[0m\u001b[1;36m0\u001b[0m\u001b[1;33m,\u001b[0m \u001b[0mname\u001b[0m\u001b[1;33m,\u001b[0m \u001b[0mlevel_values\u001b[0m\u001b[1;33m)\u001b[0m\u001b[1;33m\u001b[0m\u001b[0m\n\u001b[0;32m   3057\u001b[0m \u001b[1;33m\u001b[0m\u001b[0m\n",
      "\u001b[1;31mTypeError\u001b[0m: 'in <string>' requires string as left operand, not int"
     ]
    }
   ],
   "source": [
    "inj_year.reset_index('season')\n",
    "inj_year.head()"
   ]
  },
  {
   "cell_type": "code",
   "execution_count": 169,
   "metadata": {},
   "outputs": [
    {
     "data": {
      "image/png": "[encoded data removed]",
      "text/plain": [
       "<matplotlib.figure.Figure at 0x237639886d8>"
      ]
     },
     "metadata": {},
     "output_type": "display_data"
    }
   ],
   "source": [
    "plt.plot(inj_year)\n",
    "plt.title('Injury by year')\n",
    "plt.show()"
   ]
  },
  {
   "cell_type": "code",
   "execution_count": 166,
   "metadata": {
    "collapsed": true
   },
   "outputs": [],
   "source": [
    "F_mean_sorted.head()\n",
    "x=F_mean_sorted[['Passer Rating_Mean','PrevRating']]\n",
    "x.reset_index(drop = True, inplace = True)"
   ]
  },
  {
   "cell_type": "code",
   "execution_count": 169,
   "metadata": {},
   "outputs": [
    {
     "data": {
      "image/png": "[encoded data removed]",
      "text/plain": [
       "<matplotlib.figure.Figure at 0x2cc5b4ea550>"
      ]
     },
     "metadata": {},
     "output_type": "display_data"
    }
   ],
   "source": [
    "plt.plot(x['Passer Rating_Mean'])\n",
    "plt.plot(x['PrevRating'])\n",
    "plt.title('Injury by year')\n",
    "plt.show()"
   ]
  },
  {
   "cell_type": "code",
   "execution_count": 172,
   "metadata": {},
   "outputs": [
    {
     "data": {
      "image/png": "[encoded data removed]",
      "text/plain": [
       "<matplotlib.figure.Figure at 0x23763cdf0f0>"
      ]
     },
     "metadata": {},
     "output_type": "display_data"
    }
   ],
   "source": [
    "i = range(20)\n",
    "inj_plyr_20.Player.plot.bar()\n",
    "plt.xticks(i,inj_plyr_20['Injury'],rotation = 'vertical')\n",
    "plt.show()"
   ]
  },
  {
   "cell_type": "code",
   "execution_count": 173,
   "metadata": {},
   "outputs": [
    {
     "data": {
      "text/html": [
       "<div>\n",
       "<style>\n",
       "    .dataframe thead tr:only-child th {\n",
       "        text-align: right;\n",
       "    }\n",
       "\n",
       "    .dataframe thead th {\n",
       "        text-align: left;\n",
       "    }\n",
       "\n",
       "    .dataframe tbody tr th {\n",
       "        vertical-align: top;\n",
       "    }\n",
       "</style>\n",
       "<table border=\"1\" class=\"dataframe\">\n",
       "  <thead>\n",
       "    <tr style=\"text-align: right;\">\n",
       "      <th></th>\n",
       "      <th>Name</th>\n",
       "      <th>Rank</th>\n",
       "      <th>Passer Rating_Mean</th>\n",
       "      <th>PrevRating</th>\n",
       "      <th>PrevRank</th>\n",
       "    </tr>\n",
       "  </thead>\n",
       "  <tbody>\n",
       "    <tr>\n",
       "      <th>1</th>\n",
       "      <td>Brees, Drew</td>\n",
       "      <td>1.0</td>\n",
       "      <td>100.795833</td>\n",
       "      <td>100.100000</td>\n",
       "      <td>0.0</td>\n",
       "    </tr>\n",
       "    <tr>\n",
       "      <th>4</th>\n",
       "      <td>Foles, Nick</td>\n",
       "      <td>1.0</td>\n",
       "      <td>96.238889</td>\n",
       "      <td>69.885714</td>\n",
       "      <td>0.0</td>\n",
       "    </tr>\n",
       "    <tr>\n",
       "      <th>11</th>\n",
       "      <td>Smith, Alex</td>\n",
       "      <td>1.5</td>\n",
       "      <td>93.525000</td>\n",
       "      <td>90.701562</td>\n",
       "      <td>0.5</td>\n",
       "    </tr>\n",
       "    <tr>\n",
       "      <th>8</th>\n",
       "      <td>Newton, Cam</td>\n",
       "      <td>2.0</td>\n",
       "      <td>90.232143</td>\n",
       "      <td>74.669231</td>\n",
       "      <td>1.0</td>\n",
       "    </tr>\n",
       "    <tr>\n",
       "      <th>6</th>\n",
       "      <td>Luck, Andrew</td>\n",
       "      <td>10.0</td>\n",
       "      <td>87.616667</td>\n",
       "      <td>84.672727</td>\n",
       "      <td>9.0</td>\n",
       "    </tr>\n",
       "    <tr>\n",
       "      <th>3</th>\n",
       "      <td>Cutler, Jay</td>\n",
       "      <td>6.0</td>\n",
       "      <td>87.318750</td>\n",
       "      <td>81.459091</td>\n",
       "      <td>5.0</td>\n",
       "    </tr>\n",
       "    <tr>\n",
       "      <th>7</th>\n",
       "      <td>McCown, Josh</td>\n",
       "      <td>6.0</td>\n",
       "      <td>81.214286</td>\n",
       "      <td>66.580000</td>\n",
       "      <td>5.0</td>\n",
       "    </tr>\n",
       "    <tr>\n",
       "      <th>2</th>\n",
       "      <td>Bridgewater, Teddy</td>\n",
       "      <td>1.0</td>\n",
       "      <td>80.846667</td>\n",
       "      <td>45.550000</td>\n",
       "      <td>0.0</td>\n",
       "    </tr>\n",
       "    <tr>\n",
       "      <th>10</th>\n",
       "      <td>Siemian, Trevor</td>\n",
       "      <td>1.0</td>\n",
       "      <td>73.600000</td>\n",
       "      <td>19.159091</td>\n",
       "      <td>0.0</td>\n",
       "    </tr>\n",
       "    <tr>\n",
       "      <th>5</th>\n",
       "      <td>Hoyer, Brian</td>\n",
       "      <td>2.0</td>\n",
       "      <td>68.775000</td>\n",
       "      <td>64.450000</td>\n",
       "      <td>1.0</td>\n",
       "    </tr>\n",
       "  </tbody>\n",
       "</table>\n",
       "</div>"
      ],
      "text/plain": [
       "                  Name  Rank  Passer Rating_Mean  PrevRating  PrevRank\n",
       "1          Brees, Drew   1.0          100.795833  100.100000       0.0\n",
       "4          Foles, Nick   1.0           96.238889   69.885714       0.0\n",
       "11         Smith, Alex   1.5           93.525000   90.701562       0.5\n",
       "8          Newton, Cam   2.0           90.232143   74.669231       1.0\n",
       "6         Luck, Andrew  10.0           87.616667   84.672727       9.0\n",
       "3          Cutler, Jay   6.0           87.318750   81.459091       5.0\n",
       "7         McCown, Josh   6.0           81.214286   66.580000       5.0\n",
       "2   Bridgewater, Teddy   1.0           80.846667   45.550000       0.0\n",
       "10     Siemian, Trevor   1.0           73.600000   19.159091       0.0\n",
       "5         Hoyer, Brian   2.0           68.775000   64.450000       1.0"
      ]
     },
     "execution_count": 173,
     "metadata": {},
     "output_type": "execute_result"
    }
   ],
   "source": [
    "QB_improve =F_mean_sorted[(F_mean_sorted.PrevRating > 0)&(F_mean_sorted.Rank > 0)& (F_mean_sorted['Passer Rating_Mean']>F_mean_sorted['PrevRating']) ].groupby(['Name'],as_index=False).mean().sort_values(['Passer Rating_Mean'],ascending=[0]).head(10)\n",
    "QB_improve"
   ]
  },
  {
   "cell_type": "code",
   "execution_count": 174,
   "metadata": {},
   "outputs": [
    {
     "data": {
      "image/png": "[encoded data removed]",
      "text/plain": [
       "<matplotlib.figure.Figure at 0x237642d7dd8>"
      ]
     },
     "metadata": {},
     "output_type": "display_data"
    }
   ],
   "source": [
    "i =range(10)\n",
    "plt.bar(i,QB_improve['Passer Rating_Mean'])\n",
    "plt.xticks(i,QB_improve['Name'],rotation = 'vertical')\n",
    "plt.title('Top QB who sees Passer Rating got improved after Injury as per year between Year 2013 - 2016')\n",
    "plt.ylabel('Passer Rating')\n",
    "plt.show()"
   ]
  },
  {
   "cell_type": "code",
   "execution_count": 175,
   "metadata": {},
   "outputs": [
    {
     "data": {
      "image/png": "[encoded data removed]",
      "text/plain": [
       "<matplotlib.figure.Figure at 0x23764501320>"
      ]
     },
     "metadata": {},
     "output_type": "display_data"
    }
   ],
   "source": [
    "i =range(10)\n",
    "plt.bar(i,QB_improve['PrevRating'])\n",
    "plt.xticks(i,QB_improve['Name'],rotation = 'vertical')\n",
    "plt.title('Top QB who sees Passer Rating got improved after Injury as per year between Year 2013 - 2016')\n",
    "plt.ylabel('Passer Rating')\n",
    "plt.show()"
   ]
  },
  {
   "cell_type": "code",
   "execution_count": null,
   "metadata": {
    "collapsed": true
   },
   "outputs": [],
   "source": []
  },
  {
   "cell_type": "code",
   "execution_count": 176,
   "metadata": {},
   "outputs": [
    {
     "data": {
      "text/html": [
       "<div>\n",
       "<style>\n",
       "    .dataframe thead tr:only-child th {\n",
       "        text-align: right;\n",
       "    }\n",
       "\n",
       "    .dataframe thead th {\n",
       "        text-align: left;\n",
       "    }\n",
       "\n",
       "    .dataframe tbody tr th {\n",
       "        vertical-align: top;\n",
       "    }\n",
       "</style>\n",
       "<table border=\"1\" class=\"dataframe\">\n",
       "  <thead>\n",
       "    <tr style=\"text-align: right;\">\n",
       "      <th></th>\n",
       "      <th>Name</th>\n",
       "      <th>Rank</th>\n",
       "      <th>Passer Rating_Mean</th>\n",
       "      <th>PrevRating</th>\n",
       "      <th>PrevRank</th>\n",
       "    </tr>\n",
       "  </thead>\n",
       "  <tbody>\n",
       "    <tr>\n",
       "      <th>28</th>\n",
       "      <td>Newton, Cam</td>\n",
       "      <td>2.0</td>\n",
       "      <td>75.746684</td>\n",
       "      <td>90.998424</td>\n",
       "      <td>1.0</td>\n",
       "    </tr>\n",
       "    <tr>\n",
       "      <th>35</th>\n",
       "      <td>Siemian, Trevor</td>\n",
       "      <td>2.0</td>\n",
       "      <td>70.368750</td>\n",
       "      <td>73.600000</td>\n",
       "      <td>1.0</td>\n",
       "    </tr>\n",
       "    <tr>\n",
       "      <th>6</th>\n",
       "      <td>Fitzpatrick, Ryan</td>\n",
       "      <td>1.0</td>\n",
       "      <td>59.000000</td>\n",
       "      <td>75.292727</td>\n",
       "      <td>0.0</td>\n",
       "    </tr>\n",
       "    <tr>\n",
       "      <th>15</th>\n",
       "      <td>Kessler, Cody</td>\n",
       "      <td>1.5</td>\n",
       "      <td>43.975000</td>\n",
       "      <td>66.601786</td>\n",
       "      <td>0.5</td>\n",
       "    </tr>\n",
       "    <tr>\n",
       "      <th>32</th>\n",
       "      <td>Roethlisberger, Ben</td>\n",
       "      <td>3.0</td>\n",
       "      <td>43.918966</td>\n",
       "      <td>93.197222</td>\n",
       "      <td>2.0</td>\n",
       "    </tr>\n",
       "    <tr>\n",
       "      <th>12</th>\n",
       "      <td>Hoyer, Brian</td>\n",
       "      <td>2.0</td>\n",
       "      <td>32.225000</td>\n",
       "      <td>68.605000</td>\n",
       "      <td>1.0</td>\n",
       "    </tr>\n",
       "    <tr>\n",
       "      <th>33</th>\n",
       "      <td>Savage, Tom</td>\n",
       "      <td>2.5</td>\n",
       "      <td>27.383333</td>\n",
       "      <td>30.958654</td>\n",
       "      <td>1.5</td>\n",
       "    </tr>\n",
       "    <tr>\n",
       "      <th>1</th>\n",
       "      <td>Campbell, Jason</td>\n",
       "      <td>1.0</td>\n",
       "      <td>25.904545</td>\n",
       "      <td>34.954545</td>\n",
       "      <td>0.0</td>\n",
       "    </tr>\n",
       "    <tr>\n",
       "      <th>0</th>\n",
       "      <td>Anderson, Derek</td>\n",
       "      <td>1.0</td>\n",
       "      <td>10.216129</td>\n",
       "      <td>20.178571</td>\n",
       "      <td>0.0</td>\n",
       "    </tr>\n",
       "    <tr>\n",
       "      <th>3</th>\n",
       "      <td>Cutler, Jay</td>\n",
       "      <td>5.5</td>\n",
       "      <td>8.725000</td>\n",
       "      <td>66.452009</td>\n",
       "      <td>4.5</td>\n",
       "    </tr>\n",
       "  </tbody>\n",
       "</table>\n",
       "</div>"
      ],
      "text/plain": [
       "                   Name  Rank  Passer Rating_Mean  PrevRating  PrevRank\n",
       "28          Newton, Cam   2.0           75.746684   90.998424       1.0\n",
       "35      Siemian, Trevor   2.0           70.368750   73.600000       1.0\n",
       "6     Fitzpatrick, Ryan   1.0           59.000000   75.292727       0.0\n",
       "15        Kessler, Cody   1.5           43.975000   66.601786       0.5\n",
       "32  Roethlisberger, Ben   3.0           43.918966   93.197222       2.0\n",
       "12         Hoyer, Brian   2.0           32.225000   68.605000       1.0\n",
       "33          Savage, Tom   2.5           27.383333   30.958654       1.5\n",
       "1       Campbell, Jason   1.0           25.904545   34.954545       0.0\n",
       "0       Anderson, Derek   1.0           10.216129   20.178571       0.0\n",
       "3           Cutler, Jay   5.5            8.725000   66.452009       4.5"
      ]
     },
     "execution_count": 176,
     "metadata": {},
     "output_type": "execute_result"
    }
   ],
   "source": [
    "QB_not_improve =F_mean_sorted[(F_mean_sorted.PrevRating > 0)&(F_mean_sorted.Rank > 0)& (F_mean_sorted['Passer Rating_Mean']<F_mean_sorted['PrevRating']) ].groupby(['Name'],as_index=False).mean().sort_values(['Passer Rating_Mean'],ascending=[0]).head(10)\n",
    "QB_not_improve"
   ]
  },
  {
   "cell_type": "code",
   "execution_count": 177,
   "metadata": {},
   "outputs": [
    {
     "data": {
      "image/png": "[encoded data removed]",
      "text/plain": [
       "<matplotlib.figure.Figure at 0x23764084d68>"
      ]
     },
     "metadata": {},
     "output_type": "display_data"
    }
   ],
   "source": [
    "i =range(10)\n",
    "plt.bar(i,QB_not_improve['Passer Rating_Mean'])\n",
    "plt.xticks(i,QB_not_improve['Name'],rotation = 'vertical')\n",
    "plt.title('Top QB who sees Passer Rating declined after Injury as per year between Year 2013 - 2016')\n",
    "plt.ylabel('Passer Rating')\n",
    "plt.show()"
   ]
  },
  {
   "cell_type": "code",
   "execution_count": 178,
   "metadata": {},
   "outputs": [
    {
     "data": {
      "image/png": "[encoded data removed]",
      "text/plain": [
       "<matplotlib.figure.Figure at 0x23763f12278>"
      ]
     },
     "metadata": {},
     "output_type": "display_data"
    }
   ],
   "source": [
    "i =range(10)\n",
    "plt.bar(i,QB_not_improve['PrevRating'])\n",
    "\n",
    "plt.xticks(i,QB_not_improve['Name'],rotation = 'vertical')\n",
    "plt.title('Top QB who sees Passer Rating declined after Injury as per year between Year 2013 - 2016')\n",
    "plt.ylabel('Passer Rating')\n",
    "plt.show()"
   ]
  },
  {
   "cell_type": "code",
   "execution_count": null,
   "metadata": {
    "collapsed": true
   },
   "outputs": [],
   "source": []
  },
  {
   "cell_type": "code",
   "execution_count": null,
   "metadata": {
    "collapsed": true
   },
   "outputs": [],
   "source": []
  }
 ],
 "metadata": {
  "kernelspec": {
   "display_name": "Python 3",
   "language": "python",
   "name": "python3"
  },
  "language_info": {
   "codemirror_mode": {
    "name": "ipython",
    "version": 3
   },
   "file_extension": ".py",
   "mimetype": "text/x-python",
   "name": "python",
   "nbconvert_exporter": "python",
   "pygments_lexer": "ipython3",
   "version": "3.6.1"
  }
 },
 "nbformat": 4,
 "nbformat_minor": 2
}
